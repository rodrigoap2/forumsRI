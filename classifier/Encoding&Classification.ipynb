{
  "nbformat": 4,
  "nbformat_minor": 0,
  "metadata": {
    "colab": {
      "name": "BERTimbauWeb",
      "provenance": [],
      "collapsed_sections": [
        "bx9luFrgYkDC",
        "YM2EaPvROtxV",
        "HLounLFIOzqU",
        "xz-wabeaRtYG"
      ],
      "toc_visible": true
    },
    "kernelspec": {
      "name": "python3",
      "display_name": "Python 3"
    },
    "widgets": {
      "application/vnd.jupyter.widget-state+json": {
        "082bfe7a70d8435d9a019f8955bc2905": {
          "model_module": "@jupyter-widgets/controls",
          "model_name": "HBoxModel",
          "state": {
            "_view_name": "HBoxView",
            "_dom_classes": [],
            "_model_name": "HBoxModel",
            "_view_module": "@jupyter-widgets/controls",
            "_model_module_version": "1.5.0",
            "_view_count": null,
            "_view_module_version": "1.5.0",
            "box_style": "",
            "layout": "IPY_MODEL_1979e72a816c47d7b10aec18437de09b",
            "_model_module": "@jupyter-widgets/controls",
            "children": [
              "IPY_MODEL_7ed5f9dc08894a34976062d237c2a896",
              "IPY_MODEL_67e2cc381384471a9053084a3486b0be"
            ]
          }
        },
        "1979e72a816c47d7b10aec18437de09b": {
          "model_module": "@jupyter-widgets/base",
          "model_name": "LayoutModel",
          "state": {
            "_view_name": "LayoutView",
            "grid_template_rows": null,
            "right": null,
            "justify_content": null,
            "_view_module": "@jupyter-widgets/base",
            "overflow": null,
            "_model_module_version": "1.2.0",
            "_view_count": null,
            "flex_flow": null,
            "width": null,
            "min_width": null,
            "border": null,
            "align_items": null,
            "bottom": null,
            "_model_module": "@jupyter-widgets/base",
            "top": null,
            "grid_column": null,
            "overflow_y": null,
            "overflow_x": null,
            "grid_auto_flow": null,
            "grid_area": null,
            "grid_template_columns": null,
            "flex": null,
            "_model_name": "LayoutModel",
            "justify_items": null,
            "grid_row": null,
            "max_height": null,
            "align_content": null,
            "visibility": null,
            "align_self": null,
            "height": null,
            "min_height": null,
            "padding": null,
            "grid_auto_rows": null,
            "grid_gap": null,
            "max_width": null,
            "order": null,
            "_view_module_version": "1.2.0",
            "grid_template_areas": null,
            "object_position": null,
            "object_fit": null,
            "grid_auto_columns": null,
            "margin": null,
            "display": null,
            "left": null
          }
        },
        "7ed5f9dc08894a34976062d237c2a896": {
          "model_module": "@jupyter-widgets/controls",
          "model_name": "FloatProgressModel",
          "state": {
            "_view_name": "ProgressView",
            "style": "IPY_MODEL_e994eff7feab4e9cb3fca500254e503c",
            "_dom_classes": [],
            "description": "Downloading: 100%",
            "_model_name": "FloatProgressModel",
            "bar_style": "success",
            "max": 647,
            "_view_module": "@jupyter-widgets/controls",
            "_model_module_version": "1.5.0",
            "value": 647,
            "_view_count": null,
            "_view_module_version": "1.5.0",
            "orientation": "horizontal",
            "min": 0,
            "description_tooltip": null,
            "_model_module": "@jupyter-widgets/controls",
            "layout": "IPY_MODEL_b6431cc3e15c429eb3543e7f0d757d90"
          }
        },
        "67e2cc381384471a9053084a3486b0be": {
          "model_module": "@jupyter-widgets/controls",
          "model_name": "HTMLModel",
          "state": {
            "_view_name": "HTMLView",
            "style": "IPY_MODEL_ee13dedc304b4332826294fc8312e304",
            "_dom_classes": [],
            "description": "",
            "_model_name": "HTMLModel",
            "placeholder": "​",
            "_view_module": "@jupyter-widgets/controls",
            "_model_module_version": "1.5.0",
            "value": " 647/647 [00:00&lt;00:00, 1.10kB/s]",
            "_view_count": null,
            "_view_module_version": "1.5.0",
            "description_tooltip": null,
            "_model_module": "@jupyter-widgets/controls",
            "layout": "IPY_MODEL_25cf29293c36480798ca07ba89fa843d"
          }
        },
        "e994eff7feab4e9cb3fca500254e503c": {
          "model_module": "@jupyter-widgets/controls",
          "model_name": "ProgressStyleModel",
          "state": {
            "_view_name": "StyleView",
            "_model_name": "ProgressStyleModel",
            "description_width": "initial",
            "_view_module": "@jupyter-widgets/base",
            "_model_module_version": "1.5.0",
            "_view_count": null,
            "_view_module_version": "1.2.0",
            "bar_color": null,
            "_model_module": "@jupyter-widgets/controls"
          }
        },
        "b6431cc3e15c429eb3543e7f0d757d90": {
          "model_module": "@jupyter-widgets/base",
          "model_name": "LayoutModel",
          "state": {
            "_view_name": "LayoutView",
            "grid_template_rows": null,
            "right": null,
            "justify_content": null,
            "_view_module": "@jupyter-widgets/base",
            "overflow": null,
            "_model_module_version": "1.2.0",
            "_view_count": null,
            "flex_flow": null,
            "width": null,
            "min_width": null,
            "border": null,
            "align_items": null,
            "bottom": null,
            "_model_module": "@jupyter-widgets/base",
            "top": null,
            "grid_column": null,
            "overflow_y": null,
            "overflow_x": null,
            "grid_auto_flow": null,
            "grid_area": null,
            "grid_template_columns": null,
            "flex": null,
            "_model_name": "LayoutModel",
            "justify_items": null,
            "grid_row": null,
            "max_height": null,
            "align_content": null,
            "visibility": null,
            "align_self": null,
            "height": null,
            "min_height": null,
            "padding": null,
            "grid_auto_rows": null,
            "grid_gap": null,
            "max_width": null,
            "order": null,
            "_view_module_version": "1.2.0",
            "grid_template_areas": null,
            "object_position": null,
            "object_fit": null,
            "grid_auto_columns": null,
            "margin": null,
            "display": null,
            "left": null
          }
        },
        "ee13dedc304b4332826294fc8312e304": {
          "model_module": "@jupyter-widgets/controls",
          "model_name": "DescriptionStyleModel",
          "state": {
            "_view_name": "StyleView",
            "_model_name": "DescriptionStyleModel",
            "description_width": "",
            "_view_module": "@jupyter-widgets/base",
            "_model_module_version": "1.5.0",
            "_view_count": null,
            "_view_module_version": "1.2.0",
            "_model_module": "@jupyter-widgets/controls"
          }
        },
        "25cf29293c36480798ca07ba89fa843d": {
          "model_module": "@jupyter-widgets/base",
          "model_name": "LayoutModel",
          "state": {
            "_view_name": "LayoutView",
            "grid_template_rows": null,
            "right": null,
            "justify_content": null,
            "_view_module": "@jupyter-widgets/base",
            "overflow": null,
            "_model_module_version": "1.2.0",
            "_view_count": null,
            "flex_flow": null,
            "width": null,
            "min_width": null,
            "border": null,
            "align_items": null,
            "bottom": null,
            "_model_module": "@jupyter-widgets/base",
            "top": null,
            "grid_column": null,
            "overflow_y": null,
            "overflow_x": null,
            "grid_auto_flow": null,
            "grid_area": null,
            "grid_template_columns": null,
            "flex": null,
            "_model_name": "LayoutModel",
            "justify_items": null,
            "grid_row": null,
            "max_height": null,
            "align_content": null,
            "visibility": null,
            "align_self": null,
            "height": null,
            "min_height": null,
            "padding": null,
            "grid_auto_rows": null,
            "grid_gap": null,
            "max_width": null,
            "order": null,
            "_view_module_version": "1.2.0",
            "grid_template_areas": null,
            "object_position": null,
            "object_fit": null,
            "grid_auto_columns": null,
            "margin": null,
            "display": null,
            "left": null
          }
        },
        "a6cc3a419cff4c34a950374c2e36dff0": {
          "model_module": "@jupyter-widgets/controls",
          "model_name": "HBoxModel",
          "state": {
            "_view_name": "HBoxView",
            "_dom_classes": [],
            "_model_name": "HBoxModel",
            "_view_module": "@jupyter-widgets/controls",
            "_model_module_version": "1.5.0",
            "_view_count": null,
            "_view_module_version": "1.5.0",
            "box_style": "",
            "layout": "IPY_MODEL_72436436d54a497794d26fb597437787",
            "_model_module": "@jupyter-widgets/controls",
            "children": [
              "IPY_MODEL_b515cd2b50604a9db8c0ffdca5ccedbc",
              "IPY_MODEL_d5a4a9e864054b0c82503ee661a3c17c"
            ]
          }
        },
        "72436436d54a497794d26fb597437787": {
          "model_module": "@jupyter-widgets/base",
          "model_name": "LayoutModel",
          "state": {
            "_view_name": "LayoutView",
            "grid_template_rows": null,
            "right": null,
            "justify_content": null,
            "_view_module": "@jupyter-widgets/base",
            "overflow": null,
            "_model_module_version": "1.2.0",
            "_view_count": null,
            "flex_flow": null,
            "width": null,
            "min_width": null,
            "border": null,
            "align_items": null,
            "bottom": null,
            "_model_module": "@jupyter-widgets/base",
            "top": null,
            "grid_column": null,
            "overflow_y": null,
            "overflow_x": null,
            "grid_auto_flow": null,
            "grid_area": null,
            "grid_template_columns": null,
            "flex": null,
            "_model_name": "LayoutModel",
            "justify_items": null,
            "grid_row": null,
            "max_height": null,
            "align_content": null,
            "visibility": null,
            "align_self": null,
            "height": null,
            "min_height": null,
            "padding": null,
            "grid_auto_rows": null,
            "grid_gap": null,
            "max_width": null,
            "order": null,
            "_view_module_version": "1.2.0",
            "grid_template_areas": null,
            "object_position": null,
            "object_fit": null,
            "grid_auto_columns": null,
            "margin": null,
            "display": null,
            "left": null
          }
        },
        "b515cd2b50604a9db8c0ffdca5ccedbc": {
          "model_module": "@jupyter-widgets/controls",
          "model_name": "FloatProgressModel",
          "state": {
            "_view_name": "ProgressView",
            "style": "IPY_MODEL_feac00e751b8493aa61c76f46ef53522",
            "_dom_classes": [],
            "description": "Downloading: 100%",
            "_model_name": "FloatProgressModel",
            "bar_style": "success",
            "max": 438235074,
            "_view_module": "@jupyter-widgets/controls",
            "_model_module_version": "1.5.0",
            "value": 438235074,
            "_view_count": null,
            "_view_module_version": "1.5.0",
            "orientation": "horizontal",
            "min": 0,
            "description_tooltip": null,
            "_model_module": "@jupyter-widgets/controls",
            "layout": "IPY_MODEL_984039a811a543f5b8923f283e29dcf4"
          }
        },
        "d5a4a9e864054b0c82503ee661a3c17c": {
          "model_module": "@jupyter-widgets/controls",
          "model_name": "HTMLModel",
          "state": {
            "_view_name": "HTMLView",
            "style": "IPY_MODEL_e6fd616db703448093cd7429bffd82f2",
            "_dom_classes": [],
            "description": "",
            "_model_name": "HTMLModel",
            "placeholder": "​",
            "_view_module": "@jupyter-widgets/controls",
            "_model_module_version": "1.5.0",
            "value": " 438M/438M [00:12&lt;00:00, 36.4MB/s]",
            "_view_count": null,
            "_view_module_version": "1.5.0",
            "description_tooltip": null,
            "_model_module": "@jupyter-widgets/controls",
            "layout": "IPY_MODEL_2c50fd3d7e364421b8bfccaafb3a5c22"
          }
        },
        "feac00e751b8493aa61c76f46ef53522": {
          "model_module": "@jupyter-widgets/controls",
          "model_name": "ProgressStyleModel",
          "state": {
            "_view_name": "StyleView",
            "_model_name": "ProgressStyleModel",
            "description_width": "initial",
            "_view_module": "@jupyter-widgets/base",
            "_model_module_version": "1.5.0",
            "_view_count": null,
            "_view_module_version": "1.2.0",
            "bar_color": null,
            "_model_module": "@jupyter-widgets/controls"
          }
        },
        "984039a811a543f5b8923f283e29dcf4": {
          "model_module": "@jupyter-widgets/base",
          "model_name": "LayoutModel",
          "state": {
            "_view_name": "LayoutView",
            "grid_template_rows": null,
            "right": null,
            "justify_content": null,
            "_view_module": "@jupyter-widgets/base",
            "overflow": null,
            "_model_module_version": "1.2.0",
            "_view_count": null,
            "flex_flow": null,
            "width": null,
            "min_width": null,
            "border": null,
            "align_items": null,
            "bottom": null,
            "_model_module": "@jupyter-widgets/base",
            "top": null,
            "grid_column": null,
            "overflow_y": null,
            "overflow_x": null,
            "grid_auto_flow": null,
            "grid_area": null,
            "grid_template_columns": null,
            "flex": null,
            "_model_name": "LayoutModel",
            "justify_items": null,
            "grid_row": null,
            "max_height": null,
            "align_content": null,
            "visibility": null,
            "align_self": null,
            "height": null,
            "min_height": null,
            "padding": null,
            "grid_auto_rows": null,
            "grid_gap": null,
            "max_width": null,
            "order": null,
            "_view_module_version": "1.2.0",
            "grid_template_areas": null,
            "object_position": null,
            "object_fit": null,
            "grid_auto_columns": null,
            "margin": null,
            "display": null,
            "left": null
          }
        },
        "e6fd616db703448093cd7429bffd82f2": {
          "model_module": "@jupyter-widgets/controls",
          "model_name": "DescriptionStyleModel",
          "state": {
            "_view_name": "StyleView",
            "_model_name": "DescriptionStyleModel",
            "description_width": "",
            "_view_module": "@jupyter-widgets/base",
            "_model_module_version": "1.5.0",
            "_view_count": null,
            "_view_module_version": "1.2.0",
            "_model_module": "@jupyter-widgets/controls"
          }
        },
        "2c50fd3d7e364421b8bfccaafb3a5c22": {
          "model_module": "@jupyter-widgets/base",
          "model_name": "LayoutModel",
          "state": {
            "_view_name": "LayoutView",
            "grid_template_rows": null,
            "right": null,
            "justify_content": null,
            "_view_module": "@jupyter-widgets/base",
            "overflow": null,
            "_model_module_version": "1.2.0",
            "_view_count": null,
            "flex_flow": null,
            "width": null,
            "min_width": null,
            "border": null,
            "align_items": null,
            "bottom": null,
            "_model_module": "@jupyter-widgets/base",
            "top": null,
            "grid_column": null,
            "overflow_y": null,
            "overflow_x": null,
            "grid_auto_flow": null,
            "grid_area": null,
            "grid_template_columns": null,
            "flex": null,
            "_model_name": "LayoutModel",
            "justify_items": null,
            "grid_row": null,
            "max_height": null,
            "align_content": null,
            "visibility": null,
            "align_self": null,
            "height": null,
            "min_height": null,
            "padding": null,
            "grid_auto_rows": null,
            "grid_gap": null,
            "max_width": null,
            "order": null,
            "_view_module_version": "1.2.0",
            "grid_template_areas": null,
            "object_position": null,
            "object_fit": null,
            "grid_auto_columns": null,
            "margin": null,
            "display": null,
            "left": null
          }
        },
        "93dd0c8f78ea49e9b8d2782eb7924dfc": {
          "model_module": "@jupyter-widgets/controls",
          "model_name": "HBoxModel",
          "state": {
            "_view_name": "HBoxView",
            "_dom_classes": [],
            "_model_name": "HBoxModel",
            "_view_module": "@jupyter-widgets/controls",
            "_model_module_version": "1.5.0",
            "_view_count": null,
            "_view_module_version": "1.5.0",
            "box_style": "",
            "layout": "IPY_MODEL_b72fc33e751e45dda6bb262124eaac67",
            "_model_module": "@jupyter-widgets/controls",
            "children": [
              "IPY_MODEL_b1009942817c41498934e3899d57599d",
              "IPY_MODEL_193bbcda88584f28905683c84b50a32d"
            ]
          }
        },
        "b72fc33e751e45dda6bb262124eaac67": {
          "model_module": "@jupyter-widgets/base",
          "model_name": "LayoutModel",
          "state": {
            "_view_name": "LayoutView",
            "grid_template_rows": null,
            "right": null,
            "justify_content": null,
            "_view_module": "@jupyter-widgets/base",
            "overflow": null,
            "_model_module_version": "1.2.0",
            "_view_count": null,
            "flex_flow": null,
            "width": null,
            "min_width": null,
            "border": null,
            "align_items": null,
            "bottom": null,
            "_model_module": "@jupyter-widgets/base",
            "top": null,
            "grid_column": null,
            "overflow_y": null,
            "overflow_x": null,
            "grid_auto_flow": null,
            "grid_area": null,
            "grid_template_columns": null,
            "flex": null,
            "_model_name": "LayoutModel",
            "justify_items": null,
            "grid_row": null,
            "max_height": null,
            "align_content": null,
            "visibility": null,
            "align_self": null,
            "height": null,
            "min_height": null,
            "padding": null,
            "grid_auto_rows": null,
            "grid_gap": null,
            "max_width": null,
            "order": null,
            "_view_module_version": "1.2.0",
            "grid_template_areas": null,
            "object_position": null,
            "object_fit": null,
            "grid_auto_columns": null,
            "margin": null,
            "display": null,
            "left": null
          }
        },
        "b1009942817c41498934e3899d57599d": {
          "model_module": "@jupyter-widgets/controls",
          "model_name": "FloatProgressModel",
          "state": {
            "_view_name": "ProgressView",
            "style": "IPY_MODEL_0bd26df4e8f4422aaa7cb29ad5bc0e15",
            "_dom_classes": [],
            "description": "Downloading: 100%",
            "_model_name": "FloatProgressModel",
            "bar_style": "success",
            "max": 209528,
            "_view_module": "@jupyter-widgets/controls",
            "_model_module_version": "1.5.0",
            "value": 209528,
            "_view_count": null,
            "_view_module_version": "1.5.0",
            "orientation": "horizontal",
            "min": 0,
            "description_tooltip": null,
            "_model_module": "@jupyter-widgets/controls",
            "layout": "IPY_MODEL_6fecdf6ebfa3482a8b295105e9797332"
          }
        },
        "193bbcda88584f28905683c84b50a32d": {
          "model_module": "@jupyter-widgets/controls",
          "model_name": "HTMLModel",
          "state": {
            "_view_name": "HTMLView",
            "style": "IPY_MODEL_03098a51be5f4974a7edc181cd0e2c0e",
            "_dom_classes": [],
            "description": "",
            "_model_name": "HTMLModel",
            "placeholder": "​",
            "_view_module": "@jupyter-widgets/controls",
            "_model_module_version": "1.5.0",
            "value": " 210k/210k [00:03&lt;00:00, 54.0kB/s]",
            "_view_count": null,
            "_view_module_version": "1.5.0",
            "description_tooltip": null,
            "_model_module": "@jupyter-widgets/controls",
            "layout": "IPY_MODEL_f58e910172a142c3a340436024ee028b"
          }
        },
        "0bd26df4e8f4422aaa7cb29ad5bc0e15": {
          "model_module": "@jupyter-widgets/controls",
          "model_name": "ProgressStyleModel",
          "state": {
            "_view_name": "StyleView",
            "_model_name": "ProgressStyleModel",
            "description_width": "initial",
            "_view_module": "@jupyter-widgets/base",
            "_model_module_version": "1.5.0",
            "_view_count": null,
            "_view_module_version": "1.2.0",
            "bar_color": null,
            "_model_module": "@jupyter-widgets/controls"
          }
        },
        "6fecdf6ebfa3482a8b295105e9797332": {
          "model_module": "@jupyter-widgets/base",
          "model_name": "LayoutModel",
          "state": {
            "_view_name": "LayoutView",
            "grid_template_rows": null,
            "right": null,
            "justify_content": null,
            "_view_module": "@jupyter-widgets/base",
            "overflow": null,
            "_model_module_version": "1.2.0",
            "_view_count": null,
            "flex_flow": null,
            "width": null,
            "min_width": null,
            "border": null,
            "align_items": null,
            "bottom": null,
            "_model_module": "@jupyter-widgets/base",
            "top": null,
            "grid_column": null,
            "overflow_y": null,
            "overflow_x": null,
            "grid_auto_flow": null,
            "grid_area": null,
            "grid_template_columns": null,
            "flex": null,
            "_model_name": "LayoutModel",
            "justify_items": null,
            "grid_row": null,
            "max_height": null,
            "align_content": null,
            "visibility": null,
            "align_self": null,
            "height": null,
            "min_height": null,
            "padding": null,
            "grid_auto_rows": null,
            "grid_gap": null,
            "max_width": null,
            "order": null,
            "_view_module_version": "1.2.0",
            "grid_template_areas": null,
            "object_position": null,
            "object_fit": null,
            "grid_auto_columns": null,
            "margin": null,
            "display": null,
            "left": null
          }
        },
        "03098a51be5f4974a7edc181cd0e2c0e": {
          "model_module": "@jupyter-widgets/controls",
          "model_name": "DescriptionStyleModel",
          "state": {
            "_view_name": "StyleView",
            "_model_name": "DescriptionStyleModel",
            "description_width": "",
            "_view_module": "@jupyter-widgets/base",
            "_model_module_version": "1.5.0",
            "_view_count": null,
            "_view_module_version": "1.2.0",
            "_model_module": "@jupyter-widgets/controls"
          }
        },
        "f58e910172a142c3a340436024ee028b": {
          "model_module": "@jupyter-widgets/base",
          "model_name": "LayoutModel",
          "state": {
            "_view_name": "LayoutView",
            "grid_template_rows": null,
            "right": null,
            "justify_content": null,
            "_view_module": "@jupyter-widgets/base",
            "overflow": null,
            "_model_module_version": "1.2.0",
            "_view_count": null,
            "flex_flow": null,
            "width": null,
            "min_width": null,
            "border": null,
            "align_items": null,
            "bottom": null,
            "_model_module": "@jupyter-widgets/base",
            "top": null,
            "grid_column": null,
            "overflow_y": null,
            "overflow_x": null,
            "grid_auto_flow": null,
            "grid_area": null,
            "grid_template_columns": null,
            "flex": null,
            "_model_name": "LayoutModel",
            "justify_items": null,
            "grid_row": null,
            "max_height": null,
            "align_content": null,
            "visibility": null,
            "align_self": null,
            "height": null,
            "min_height": null,
            "padding": null,
            "grid_auto_rows": null,
            "grid_gap": null,
            "max_width": null,
            "order": null,
            "_view_module_version": "1.2.0",
            "grid_template_areas": null,
            "object_position": null,
            "object_fit": null,
            "grid_auto_columns": null,
            "margin": null,
            "display": null,
            "left": null
          }
        },
        "a5897f419ca44623be3adb78664d0525": {
          "model_module": "@jupyter-widgets/controls",
          "model_name": "HBoxModel",
          "state": {
            "_view_name": "HBoxView",
            "_dom_classes": [],
            "_model_name": "HBoxModel",
            "_view_module": "@jupyter-widgets/controls",
            "_model_module_version": "1.5.0",
            "_view_count": null,
            "_view_module_version": "1.5.0",
            "box_style": "",
            "layout": "IPY_MODEL_f6d0a56245bd4a60b18029c9058d1657",
            "_model_module": "@jupyter-widgets/controls",
            "children": [
              "IPY_MODEL_647b4e2bd5124e54b016a410999265e9",
              "IPY_MODEL_8f411fa1dd5249589b263e9ea7802eb5"
            ]
          }
        },
        "f6d0a56245bd4a60b18029c9058d1657": {
          "model_module": "@jupyter-widgets/base",
          "model_name": "LayoutModel",
          "state": {
            "_view_name": "LayoutView",
            "grid_template_rows": null,
            "right": null,
            "justify_content": null,
            "_view_module": "@jupyter-widgets/base",
            "overflow": null,
            "_model_module_version": "1.2.0",
            "_view_count": null,
            "flex_flow": null,
            "width": null,
            "min_width": null,
            "border": null,
            "align_items": null,
            "bottom": null,
            "_model_module": "@jupyter-widgets/base",
            "top": null,
            "grid_column": null,
            "overflow_y": null,
            "overflow_x": null,
            "grid_auto_flow": null,
            "grid_area": null,
            "grid_template_columns": null,
            "flex": null,
            "_model_name": "LayoutModel",
            "justify_items": null,
            "grid_row": null,
            "max_height": null,
            "align_content": null,
            "visibility": null,
            "align_self": null,
            "height": null,
            "min_height": null,
            "padding": null,
            "grid_auto_rows": null,
            "grid_gap": null,
            "max_width": null,
            "order": null,
            "_view_module_version": "1.2.0",
            "grid_template_areas": null,
            "object_position": null,
            "object_fit": null,
            "grid_auto_columns": null,
            "margin": null,
            "display": null,
            "left": null
          }
        },
        "647b4e2bd5124e54b016a410999265e9": {
          "model_module": "@jupyter-widgets/controls",
          "model_name": "FloatProgressModel",
          "state": {
            "_view_name": "ProgressView",
            "style": "IPY_MODEL_baf52530da9f41c292272db5eb7f1cdc",
            "_dom_classes": [],
            "description": "Downloading: 100%",
            "_model_name": "FloatProgressModel",
            "bar_style": "success",
            "max": 2,
            "_view_module": "@jupyter-widgets/controls",
            "_model_module_version": "1.5.0",
            "value": 2,
            "_view_count": null,
            "_view_module_version": "1.5.0",
            "orientation": "horizontal",
            "min": 0,
            "description_tooltip": null,
            "_model_module": "@jupyter-widgets/controls",
            "layout": "IPY_MODEL_6319460ae1a5472ab80f5d2bd33098eb"
          }
        },
        "8f411fa1dd5249589b263e9ea7802eb5": {
          "model_module": "@jupyter-widgets/controls",
          "model_name": "HTMLModel",
          "state": {
            "_view_name": "HTMLView",
            "style": "IPY_MODEL_bf8b7973cc8f40aebe9cc21be104a1f0",
            "_dom_classes": [],
            "description": "",
            "_model_name": "HTMLModel",
            "placeholder": "​",
            "_view_module": "@jupyter-widgets/controls",
            "_model_module_version": "1.5.0",
            "value": " 2.00/2.00 [00:01&lt;00:00, 1.41B/s]",
            "_view_count": null,
            "_view_module_version": "1.5.0",
            "description_tooltip": null,
            "_model_module": "@jupyter-widgets/controls",
            "layout": "IPY_MODEL_686608aad76c4851adc7a6d62231c274"
          }
        },
        "baf52530da9f41c292272db5eb7f1cdc": {
          "model_module": "@jupyter-widgets/controls",
          "model_name": "ProgressStyleModel",
          "state": {
            "_view_name": "StyleView",
            "_model_name": "ProgressStyleModel",
            "description_width": "initial",
            "_view_module": "@jupyter-widgets/base",
            "_model_module_version": "1.5.0",
            "_view_count": null,
            "_view_module_version": "1.2.0",
            "bar_color": null,
            "_model_module": "@jupyter-widgets/controls"
          }
        },
        "6319460ae1a5472ab80f5d2bd33098eb": {
          "model_module": "@jupyter-widgets/base",
          "model_name": "LayoutModel",
          "state": {
            "_view_name": "LayoutView",
            "grid_template_rows": null,
            "right": null,
            "justify_content": null,
            "_view_module": "@jupyter-widgets/base",
            "overflow": null,
            "_model_module_version": "1.2.0",
            "_view_count": null,
            "flex_flow": null,
            "width": null,
            "min_width": null,
            "border": null,
            "align_items": null,
            "bottom": null,
            "_model_module": "@jupyter-widgets/base",
            "top": null,
            "grid_column": null,
            "overflow_y": null,
            "overflow_x": null,
            "grid_auto_flow": null,
            "grid_area": null,
            "grid_template_columns": null,
            "flex": null,
            "_model_name": "LayoutModel",
            "justify_items": null,
            "grid_row": null,
            "max_height": null,
            "align_content": null,
            "visibility": null,
            "align_self": null,
            "height": null,
            "min_height": null,
            "padding": null,
            "grid_auto_rows": null,
            "grid_gap": null,
            "max_width": null,
            "order": null,
            "_view_module_version": "1.2.0",
            "grid_template_areas": null,
            "object_position": null,
            "object_fit": null,
            "grid_auto_columns": null,
            "margin": null,
            "display": null,
            "left": null
          }
        },
        "bf8b7973cc8f40aebe9cc21be104a1f0": {
          "model_module": "@jupyter-widgets/controls",
          "model_name": "DescriptionStyleModel",
          "state": {
            "_view_name": "StyleView",
            "_model_name": "DescriptionStyleModel",
            "description_width": "",
            "_view_module": "@jupyter-widgets/base",
            "_model_module_version": "1.5.0",
            "_view_count": null,
            "_view_module_version": "1.2.0",
            "_model_module": "@jupyter-widgets/controls"
          }
        },
        "686608aad76c4851adc7a6d62231c274": {
          "model_module": "@jupyter-widgets/base",
          "model_name": "LayoutModel",
          "state": {
            "_view_name": "LayoutView",
            "grid_template_rows": null,
            "right": null,
            "justify_content": null,
            "_view_module": "@jupyter-widgets/base",
            "overflow": null,
            "_model_module_version": "1.2.0",
            "_view_count": null,
            "flex_flow": null,
            "width": null,
            "min_width": null,
            "border": null,
            "align_items": null,
            "bottom": null,
            "_model_module": "@jupyter-widgets/base",
            "top": null,
            "grid_column": null,
            "overflow_y": null,
            "overflow_x": null,
            "grid_auto_flow": null,
            "grid_area": null,
            "grid_template_columns": null,
            "flex": null,
            "_model_name": "LayoutModel",
            "justify_items": null,
            "grid_row": null,
            "max_height": null,
            "align_content": null,
            "visibility": null,
            "align_self": null,
            "height": null,
            "min_height": null,
            "padding": null,
            "grid_auto_rows": null,
            "grid_gap": null,
            "max_width": null,
            "order": null,
            "_view_module_version": "1.2.0",
            "grid_template_areas": null,
            "object_position": null,
            "object_fit": null,
            "grid_auto_columns": null,
            "margin": null,
            "display": null,
            "left": null
          }
        },
        "26ccb52689474a51a68bcb7f2955fb06": {
          "model_module": "@jupyter-widgets/controls",
          "model_name": "HBoxModel",
          "state": {
            "_view_name": "HBoxView",
            "_dom_classes": [],
            "_model_name": "HBoxModel",
            "_view_module": "@jupyter-widgets/controls",
            "_model_module_version": "1.5.0",
            "_view_count": null,
            "_view_module_version": "1.5.0",
            "box_style": "",
            "layout": "IPY_MODEL_a179ca647ddd437cac7b891a261b5611",
            "_model_module": "@jupyter-widgets/controls",
            "children": [
              "IPY_MODEL_4e88f05517e244918c23b0539216a03b",
              "IPY_MODEL_a5b36a4749dc4a9384a1374d2610abd2"
            ]
          }
        },
        "a179ca647ddd437cac7b891a261b5611": {
          "model_module": "@jupyter-widgets/base",
          "model_name": "LayoutModel",
          "state": {
            "_view_name": "LayoutView",
            "grid_template_rows": null,
            "right": null,
            "justify_content": null,
            "_view_module": "@jupyter-widgets/base",
            "overflow": null,
            "_model_module_version": "1.2.0",
            "_view_count": null,
            "flex_flow": null,
            "width": null,
            "min_width": null,
            "border": null,
            "align_items": null,
            "bottom": null,
            "_model_module": "@jupyter-widgets/base",
            "top": null,
            "grid_column": null,
            "overflow_y": null,
            "overflow_x": null,
            "grid_auto_flow": null,
            "grid_area": null,
            "grid_template_columns": null,
            "flex": null,
            "_model_name": "LayoutModel",
            "justify_items": null,
            "grid_row": null,
            "max_height": null,
            "align_content": null,
            "visibility": null,
            "align_self": null,
            "height": null,
            "min_height": null,
            "padding": null,
            "grid_auto_rows": null,
            "grid_gap": null,
            "max_width": null,
            "order": null,
            "_view_module_version": "1.2.0",
            "grid_template_areas": null,
            "object_position": null,
            "object_fit": null,
            "grid_auto_columns": null,
            "margin": null,
            "display": null,
            "left": null
          }
        },
        "4e88f05517e244918c23b0539216a03b": {
          "model_module": "@jupyter-widgets/controls",
          "model_name": "FloatProgressModel",
          "state": {
            "_view_name": "ProgressView",
            "style": "IPY_MODEL_256b24b505a842acbf3781bbd87eb51f",
            "_dom_classes": [],
            "description": "Downloading: 100%",
            "_model_name": "FloatProgressModel",
            "bar_style": "success",
            "max": 112,
            "_view_module": "@jupyter-widgets/controls",
            "_model_module_version": "1.5.0",
            "value": 112,
            "_view_count": null,
            "_view_module_version": "1.5.0",
            "orientation": "horizontal",
            "min": 0,
            "description_tooltip": null,
            "_model_module": "@jupyter-widgets/controls",
            "layout": "IPY_MODEL_20974ee9953c4c998e95d75208c55731"
          }
        },
        "a5b36a4749dc4a9384a1374d2610abd2": {
          "model_module": "@jupyter-widgets/controls",
          "model_name": "HTMLModel",
          "state": {
            "_view_name": "HTMLView",
            "style": "IPY_MODEL_a8f289a61fa0431a96728fb042f54596",
            "_dom_classes": [],
            "description": "",
            "_model_name": "HTMLModel",
            "placeholder": "​",
            "_view_module": "@jupyter-widgets/controls",
            "_model_module_version": "1.5.0",
            "value": " 112/112 [00:01&lt;00:00, 90.8B/s]",
            "_view_count": null,
            "_view_module_version": "1.5.0",
            "description_tooltip": null,
            "_model_module": "@jupyter-widgets/controls",
            "layout": "IPY_MODEL_6c1be869d91c44fa8c6c07bd9b902c56"
          }
        },
        "256b24b505a842acbf3781bbd87eb51f": {
          "model_module": "@jupyter-widgets/controls",
          "model_name": "ProgressStyleModel",
          "state": {
            "_view_name": "StyleView",
            "_model_name": "ProgressStyleModel",
            "description_width": "initial",
            "_view_module": "@jupyter-widgets/base",
            "_model_module_version": "1.5.0",
            "_view_count": null,
            "_view_module_version": "1.2.0",
            "bar_color": null,
            "_model_module": "@jupyter-widgets/controls"
          }
        },
        "20974ee9953c4c998e95d75208c55731": {
          "model_module": "@jupyter-widgets/base",
          "model_name": "LayoutModel",
          "state": {
            "_view_name": "LayoutView",
            "grid_template_rows": null,
            "right": null,
            "justify_content": null,
            "_view_module": "@jupyter-widgets/base",
            "overflow": null,
            "_model_module_version": "1.2.0",
            "_view_count": null,
            "flex_flow": null,
            "width": null,
            "min_width": null,
            "border": null,
            "align_items": null,
            "bottom": null,
            "_model_module": "@jupyter-widgets/base",
            "top": null,
            "grid_column": null,
            "overflow_y": null,
            "overflow_x": null,
            "grid_auto_flow": null,
            "grid_area": null,
            "grid_template_columns": null,
            "flex": null,
            "_model_name": "LayoutModel",
            "justify_items": null,
            "grid_row": null,
            "max_height": null,
            "align_content": null,
            "visibility": null,
            "align_self": null,
            "height": null,
            "min_height": null,
            "padding": null,
            "grid_auto_rows": null,
            "grid_gap": null,
            "max_width": null,
            "order": null,
            "_view_module_version": "1.2.0",
            "grid_template_areas": null,
            "object_position": null,
            "object_fit": null,
            "grid_auto_columns": null,
            "margin": null,
            "display": null,
            "left": null
          }
        },
        "a8f289a61fa0431a96728fb042f54596": {
          "model_module": "@jupyter-widgets/controls",
          "model_name": "DescriptionStyleModel",
          "state": {
            "_view_name": "StyleView",
            "_model_name": "DescriptionStyleModel",
            "description_width": "",
            "_view_module": "@jupyter-widgets/base",
            "_model_module_version": "1.5.0",
            "_view_count": null,
            "_view_module_version": "1.2.0",
            "_model_module": "@jupyter-widgets/controls"
          }
        },
        "6c1be869d91c44fa8c6c07bd9b902c56": {
          "model_module": "@jupyter-widgets/base",
          "model_name": "LayoutModel",
          "state": {
            "_view_name": "LayoutView",
            "grid_template_rows": null,
            "right": null,
            "justify_content": null,
            "_view_module": "@jupyter-widgets/base",
            "overflow": null,
            "_model_module_version": "1.2.0",
            "_view_count": null,
            "flex_flow": null,
            "width": null,
            "min_width": null,
            "border": null,
            "align_items": null,
            "bottom": null,
            "_model_module": "@jupyter-widgets/base",
            "top": null,
            "grid_column": null,
            "overflow_y": null,
            "overflow_x": null,
            "grid_auto_flow": null,
            "grid_area": null,
            "grid_template_columns": null,
            "flex": null,
            "_model_name": "LayoutModel",
            "justify_items": null,
            "grid_row": null,
            "max_height": null,
            "align_content": null,
            "visibility": null,
            "align_self": null,
            "height": null,
            "min_height": null,
            "padding": null,
            "grid_auto_rows": null,
            "grid_gap": null,
            "max_width": null,
            "order": null,
            "_view_module_version": "1.2.0",
            "grid_template_areas": null,
            "object_position": null,
            "object_fit": null,
            "grid_auto_columns": null,
            "margin": null,
            "display": null,
            "left": null
          }
        },
        "f8612920141f40469eb4a5b73cd26e15": {
          "model_module": "@jupyter-widgets/controls",
          "model_name": "HBoxModel",
          "state": {
            "_view_name": "HBoxView",
            "_dom_classes": [],
            "_model_name": "HBoxModel",
            "_view_module": "@jupyter-widgets/controls",
            "_model_module_version": "1.5.0",
            "_view_count": null,
            "_view_module_version": "1.5.0",
            "box_style": "",
            "layout": "IPY_MODEL_e3e1894225554aaa8e5b6e7225a61d29",
            "_model_module": "@jupyter-widgets/controls",
            "children": [
              "IPY_MODEL_7cd9384e78c742399ad51c237e33e53b",
              "IPY_MODEL_ad7d9487680a4d6882bf4aa3d1995698"
            ]
          }
        },
        "e3e1894225554aaa8e5b6e7225a61d29": {
          "model_module": "@jupyter-widgets/base",
          "model_name": "LayoutModel",
          "state": {
            "_view_name": "LayoutView",
            "grid_template_rows": null,
            "right": null,
            "justify_content": null,
            "_view_module": "@jupyter-widgets/base",
            "overflow": null,
            "_model_module_version": "1.2.0",
            "_view_count": null,
            "flex_flow": null,
            "width": null,
            "min_width": null,
            "border": null,
            "align_items": null,
            "bottom": null,
            "_model_module": "@jupyter-widgets/base",
            "top": null,
            "grid_column": null,
            "overflow_y": null,
            "overflow_x": null,
            "grid_auto_flow": null,
            "grid_area": null,
            "grid_template_columns": null,
            "flex": null,
            "_model_name": "LayoutModel",
            "justify_items": null,
            "grid_row": null,
            "max_height": null,
            "align_content": null,
            "visibility": null,
            "align_self": null,
            "height": null,
            "min_height": null,
            "padding": null,
            "grid_auto_rows": null,
            "grid_gap": null,
            "max_width": null,
            "order": null,
            "_view_module_version": "1.2.0",
            "grid_template_areas": null,
            "object_position": null,
            "object_fit": null,
            "grid_auto_columns": null,
            "margin": null,
            "display": null,
            "left": null
          }
        },
        "7cd9384e78c742399ad51c237e33e53b": {
          "model_module": "@jupyter-widgets/controls",
          "model_name": "FloatProgressModel",
          "state": {
            "_view_name": "ProgressView",
            "style": "IPY_MODEL_13e2048d23784d70ac4f0edc1de7bd65",
            "_dom_classes": [],
            "description": "Downloading: 100%",
            "_model_name": "FloatProgressModel",
            "bar_style": "success",
            "max": 43,
            "_view_module": "@jupyter-widgets/controls",
            "_model_module_version": "1.5.0",
            "value": 43,
            "_view_count": null,
            "_view_module_version": "1.5.0",
            "orientation": "horizontal",
            "min": 0,
            "description_tooltip": null,
            "_model_module": "@jupyter-widgets/controls",
            "layout": "IPY_MODEL_bff85f279cc64da0b59721973c8ab67a"
          }
        },
        "ad7d9487680a4d6882bf4aa3d1995698": {
          "model_module": "@jupyter-widgets/controls",
          "model_name": "HTMLModel",
          "state": {
            "_view_name": "HTMLView",
            "style": "IPY_MODEL_4bd635745c96458ebf026187abb2ec73",
            "_dom_classes": [],
            "description": "",
            "_model_name": "HTMLModel",
            "placeholder": "​",
            "_view_module": "@jupyter-widgets/controls",
            "_model_module_version": "1.5.0",
            "value": " 43.0/43.0 [00:00&lt;00:00, 496B/s]",
            "_view_count": null,
            "_view_module_version": "1.5.0",
            "description_tooltip": null,
            "_model_module": "@jupyter-widgets/controls",
            "layout": "IPY_MODEL_7d1a48bbe4a94dff8cf34354d8362fef"
          }
        },
        "13e2048d23784d70ac4f0edc1de7bd65": {
          "model_module": "@jupyter-widgets/controls",
          "model_name": "ProgressStyleModel",
          "state": {
            "_view_name": "StyleView",
            "_model_name": "ProgressStyleModel",
            "description_width": "initial",
            "_view_module": "@jupyter-widgets/base",
            "_model_module_version": "1.5.0",
            "_view_count": null,
            "_view_module_version": "1.2.0",
            "bar_color": null,
            "_model_module": "@jupyter-widgets/controls"
          }
        },
        "bff85f279cc64da0b59721973c8ab67a": {
          "model_module": "@jupyter-widgets/base",
          "model_name": "LayoutModel",
          "state": {
            "_view_name": "LayoutView",
            "grid_template_rows": null,
            "right": null,
            "justify_content": null,
            "_view_module": "@jupyter-widgets/base",
            "overflow": null,
            "_model_module_version": "1.2.0",
            "_view_count": null,
            "flex_flow": null,
            "width": null,
            "min_width": null,
            "border": null,
            "align_items": null,
            "bottom": null,
            "_model_module": "@jupyter-widgets/base",
            "top": null,
            "grid_column": null,
            "overflow_y": null,
            "overflow_x": null,
            "grid_auto_flow": null,
            "grid_area": null,
            "grid_template_columns": null,
            "flex": null,
            "_model_name": "LayoutModel",
            "justify_items": null,
            "grid_row": null,
            "max_height": null,
            "align_content": null,
            "visibility": null,
            "align_self": null,
            "height": null,
            "min_height": null,
            "padding": null,
            "grid_auto_rows": null,
            "grid_gap": null,
            "max_width": null,
            "order": null,
            "_view_module_version": "1.2.0",
            "grid_template_areas": null,
            "object_position": null,
            "object_fit": null,
            "grid_auto_columns": null,
            "margin": null,
            "display": null,
            "left": null
          }
        },
        "4bd635745c96458ebf026187abb2ec73": {
          "model_module": "@jupyter-widgets/controls",
          "model_name": "DescriptionStyleModel",
          "state": {
            "_view_name": "StyleView",
            "_model_name": "DescriptionStyleModel",
            "description_width": "",
            "_view_module": "@jupyter-widgets/base",
            "_model_module_version": "1.5.0",
            "_view_count": null,
            "_view_module_version": "1.2.0",
            "_model_module": "@jupyter-widgets/controls"
          }
        },
        "7d1a48bbe4a94dff8cf34354d8362fef": {
          "model_module": "@jupyter-widgets/base",
          "model_name": "LayoutModel",
          "state": {
            "_view_name": "LayoutView",
            "grid_template_rows": null,
            "right": null,
            "justify_content": null,
            "_view_module": "@jupyter-widgets/base",
            "overflow": null,
            "_model_module_version": "1.2.0",
            "_view_count": null,
            "flex_flow": null,
            "width": null,
            "min_width": null,
            "border": null,
            "align_items": null,
            "bottom": null,
            "_model_module": "@jupyter-widgets/base",
            "top": null,
            "grid_column": null,
            "overflow_y": null,
            "overflow_x": null,
            "grid_auto_flow": null,
            "grid_area": null,
            "grid_template_columns": null,
            "flex": null,
            "_model_name": "LayoutModel",
            "justify_items": null,
            "grid_row": null,
            "max_height": null,
            "align_content": null,
            "visibility": null,
            "align_self": null,
            "height": null,
            "min_height": null,
            "padding": null,
            "grid_auto_rows": null,
            "grid_gap": null,
            "max_width": null,
            "order": null,
            "_view_module_version": "1.2.0",
            "grid_template_areas": null,
            "object_position": null,
            "object_fit": null,
            "grid_auto_columns": null,
            "margin": null,
            "display": null,
            "left": null
          }
        }
      }
    },
    "accelerator": "GPU"
  },
  "cells": [
    {
      "cell_type": "markdown",
      "metadata": {
        "id": "J3rU7qcaI2w7"
      },
      "source": [
        "Fonte: https://curiousily.com/posts/sentiment-analysis-with-bert-and-hugging-face-using-pytorch-and-python/"
      ]
    },
    {
      "cell_type": "code",
      "metadata": {
        "colab": {
          "base_uri": "https://localhost:8080/"
        },
        "id": "DXnv83Aa7mDR",
        "outputId": "52980849-1e51-470c-8f55-0cf2ad89b01b"
      },
      "source": [
        "!pip install transformers beautifulsoup4 unidecode"
      ],
      "execution_count": 1,
      "outputs": [
        {
          "output_type": "stream",
          "text": [
            "Collecting transformers\n",
            "\u001b[?25l  Downloading https://files.pythonhosted.org/packages/ed/d5/f4157a376b8a79489a76ce6cfe147f4f3be1e029b7144fa7b8432e8acb26/transformers-4.4.2-py3-none-any.whl (2.0MB)\n",
            "\u001b[K     |████████████████████████████████| 2.0MB 5.5MB/s \n",
            "\u001b[?25hRequirement already satisfied: beautifulsoup4 in /usr/local/lib/python3.7/dist-packages (4.6.3)\n",
            "Collecting unidecode\n",
            "\u001b[?25l  Downloading https://files.pythonhosted.org/packages/9e/25/723487ca2a52ebcee88a34d7d1f5a4b80b793f179ee0f62d5371938dfa01/Unidecode-1.2.0-py2.py3-none-any.whl (241kB)\n",
            "\u001b[K     |████████████████████████████████| 245kB 17.8MB/s \n",
            "\u001b[?25hRequirement already satisfied: requests in /usr/local/lib/python3.7/dist-packages (from transformers) (2.23.0)\n",
            "Requirement already satisfied: tqdm>=4.27 in /usr/local/lib/python3.7/dist-packages (from transformers) (4.41.1)\n",
            "Requirement already satisfied: numpy>=1.17 in /usr/local/lib/python3.7/dist-packages (from transformers) (1.19.5)\n",
            "Requirement already satisfied: importlib-metadata; python_version < \"3.8\" in /usr/local/lib/python3.7/dist-packages (from transformers) (3.7.2)\n",
            "Collecting sacremoses\n",
            "\u001b[?25l  Downloading https://files.pythonhosted.org/packages/7d/34/09d19aff26edcc8eb2a01bed8e98f13a1537005d31e95233fd48216eed10/sacremoses-0.0.43.tar.gz (883kB)\n",
            "\u001b[K     |████████████████████████████████| 890kB 12.5MB/s \n",
            "\u001b[?25hRequirement already satisfied: regex!=2019.12.17 in /usr/local/lib/python3.7/dist-packages (from transformers) (2019.12.20)\n",
            "Requirement already satisfied: packaging in /usr/local/lib/python3.7/dist-packages (from transformers) (20.9)\n",
            "Requirement already satisfied: filelock in /usr/local/lib/python3.7/dist-packages (from transformers) (3.0.12)\n",
            "Collecting tokenizers<0.11,>=0.10.1\n",
            "\u001b[?25l  Downloading https://files.pythonhosted.org/packages/71/23/2ddc317b2121117bf34dd00f5b0de194158f2a44ee2bf5e47c7166878a97/tokenizers-0.10.1-cp37-cp37m-manylinux2010_x86_64.whl (3.2MB)\n",
            "\u001b[K     |████████████████████████████████| 3.2MB 26.8MB/s \n",
            "\u001b[?25hRequirement already satisfied: certifi>=2017.4.17 in /usr/local/lib/python3.7/dist-packages (from requests->transformers) (2020.12.5)\n",
            "Requirement already satisfied: urllib3!=1.25.0,!=1.25.1,<1.26,>=1.21.1 in /usr/local/lib/python3.7/dist-packages (from requests->transformers) (1.24.3)\n",
            "Requirement already satisfied: idna<3,>=2.5 in /usr/local/lib/python3.7/dist-packages (from requests->transformers) (2.10)\n",
            "Requirement already satisfied: chardet<4,>=3.0.2 in /usr/local/lib/python3.7/dist-packages (from requests->transformers) (3.0.4)\n",
            "Requirement already satisfied: typing-extensions>=3.6.4; python_version < \"3.8\" in /usr/local/lib/python3.7/dist-packages (from importlib-metadata; python_version < \"3.8\"->transformers) (3.7.4.3)\n",
            "Requirement already satisfied: zipp>=0.5 in /usr/local/lib/python3.7/dist-packages (from importlib-metadata; python_version < \"3.8\"->transformers) (3.4.1)\n",
            "Requirement already satisfied: six in /usr/local/lib/python3.7/dist-packages (from sacremoses->transformers) (1.15.0)\n",
            "Requirement already satisfied: click in /usr/local/lib/python3.7/dist-packages (from sacremoses->transformers) (7.1.2)\n",
            "Requirement already satisfied: joblib in /usr/local/lib/python3.7/dist-packages (from sacremoses->transformers) (1.0.1)\n",
            "Requirement already satisfied: pyparsing>=2.0.2 in /usr/local/lib/python3.7/dist-packages (from packaging->transformers) (2.4.7)\n",
            "Building wheels for collected packages: sacremoses\n",
            "  Building wheel for sacremoses (setup.py) ... \u001b[?25l\u001b[?25hdone\n",
            "  Created wheel for sacremoses: filename=sacremoses-0.0.43-cp37-none-any.whl size=893262 sha256=3990150a943fada9c7537b8d803425fb83a0e5060fcdb8cc861081abfe64585d\n",
            "  Stored in directory: /root/.cache/pip/wheels/29/3c/fd/7ce5c3f0666dab31a50123635e6fb5e19ceb42ce38d4e58f45\n",
            "Successfully built sacremoses\n",
            "Installing collected packages: sacremoses, tokenizers, transformers, unidecode\n",
            "Successfully installed sacremoses-0.0.43 tokenizers-0.10.1 transformers-4.4.2 unidecode-1.2.0\n"
          ],
          "name": "stdout"
        }
      ]
    },
    {
      "cell_type": "code",
      "metadata": {
        "id": "CXKYHzQG7ZPS"
      },
      "source": [
        "from transformers import AutoTokenizer  # Or BertTokenizer\n",
        "from transformers import AutoModelForPreTraining  # Or BertForPreTraining for loading pretraining heads\n",
        "from transformers import AutoModel, AdamW, get_linear_schedule_with_warmup  # or BertModel, for BERT without pretraining heads\n",
        "\n",
        "import requests\n",
        "from unidecode import unidecode\n",
        "from torch import nn, optim\n",
        "import torch\n",
        "import numpy as np\n",
        "import pandas as pd\n",
        "from torch.utils.data import Dataset, DataLoader\n",
        "from sklearn.model_selection import train_test_split, cross_val_score, cross_val_predict, KFold\n",
        "from sklearn.metrics import confusion_matrix, classification_report\n",
        "import torch.nn.functional as F\n",
        "from collections import defaultdict\n",
        "from bs4 import BeautifulSoup\n",
        "\n",
        "RANDOM_SEED = 2021\n",
        "np.random.seed(RANDOM_SEED)\n",
        "torch.manual_seed(RANDOM_SEED)\n",
        "device = torch.device(\"cuda:0\" if torch.cuda.is_available() else \"cpu\")"
      ],
      "execution_count": 2,
      "outputs": []
    },
    {
      "cell_type": "code",
      "metadata": {
        "id": "mN5gkWxiGsfR",
        "colab": {
          "base_uri": "https://localhost:8080/",
          "height": 310,
          "referenced_widgets": [
            "082bfe7a70d8435d9a019f8955bc2905",
            "1979e72a816c47d7b10aec18437de09b",
            "7ed5f9dc08894a34976062d237c2a896",
            "67e2cc381384471a9053084a3486b0be",
            "e994eff7feab4e9cb3fca500254e503c",
            "b6431cc3e15c429eb3543e7f0d757d90",
            "ee13dedc304b4332826294fc8312e304",
            "25cf29293c36480798ca07ba89fa843d",
            "a6cc3a419cff4c34a950374c2e36dff0",
            "72436436d54a497794d26fb597437787",
            "b515cd2b50604a9db8c0ffdca5ccedbc",
            "d5a4a9e864054b0c82503ee661a3c17c",
            "feac00e751b8493aa61c76f46ef53522",
            "984039a811a543f5b8923f283e29dcf4",
            "e6fd616db703448093cd7429bffd82f2",
            "2c50fd3d7e364421b8bfccaafb3a5c22",
            "93dd0c8f78ea49e9b8d2782eb7924dfc",
            "b72fc33e751e45dda6bb262124eaac67",
            "b1009942817c41498934e3899d57599d",
            "193bbcda88584f28905683c84b50a32d",
            "0bd26df4e8f4422aaa7cb29ad5bc0e15",
            "6fecdf6ebfa3482a8b295105e9797332",
            "03098a51be5f4974a7edc181cd0e2c0e",
            "f58e910172a142c3a340436024ee028b",
            "a5897f419ca44623be3adb78664d0525",
            "f6d0a56245bd4a60b18029c9058d1657",
            "647b4e2bd5124e54b016a410999265e9",
            "8f411fa1dd5249589b263e9ea7802eb5",
            "baf52530da9f41c292272db5eb7f1cdc",
            "6319460ae1a5472ab80f5d2bd33098eb",
            "bf8b7973cc8f40aebe9cc21be104a1f0",
            "686608aad76c4851adc7a6d62231c274",
            "26ccb52689474a51a68bcb7f2955fb06",
            "a179ca647ddd437cac7b891a261b5611",
            "4e88f05517e244918c23b0539216a03b",
            "a5b36a4749dc4a9384a1374d2610abd2",
            "256b24b505a842acbf3781bbd87eb51f",
            "20974ee9953c4c998e95d75208c55731",
            "a8f289a61fa0431a96728fb042f54596",
            "6c1be869d91c44fa8c6c07bd9b902c56",
            "f8612920141f40469eb4a5b73cd26e15",
            "e3e1894225554aaa8e5b6e7225a61d29",
            "7cd9384e78c742399ad51c237e33e53b",
            "ad7d9487680a4d6882bf4aa3d1995698",
            "13e2048d23784d70ac4f0edc1de7bd65",
            "bff85f279cc64da0b59721973c8ab67a",
            "4bd635745c96458ebf026187abb2ec73",
            "7d1a48bbe4a94dff8cf34354d8362fef"
          ]
        },
        "outputId": "f92719db-33ca-4e90-cbc8-6b617cdf4fc9"
      },
      "source": [
        "bert_model = AutoModel.from_pretrained('neuralmind/bert-base-portuguese-cased')\n",
        "tokenizer = AutoTokenizer.from_pretrained('neuralmind/bert-base-portuguese-cased', do_lower_case=False)"
      ],
      "execution_count": 3,
      "outputs": [
        {
          "output_type": "display_data",
          "data": {
            "application/vnd.jupyter.widget-view+json": {
              "model_id": "082bfe7a70d8435d9a019f8955bc2905",
              "version_minor": 0,
              "version_major": 2
            },
            "text/plain": [
              "HBox(children=(FloatProgress(value=0.0, description='Downloading', max=647.0, style=ProgressStyle(description_…"
            ]
          },
          "metadata": {
            "tags": []
          }
        },
        {
          "output_type": "stream",
          "text": [
            "\n"
          ],
          "name": "stdout"
        },
        {
          "output_type": "display_data",
          "data": {
            "application/vnd.jupyter.widget-view+json": {
              "model_id": "a6cc3a419cff4c34a950374c2e36dff0",
              "version_minor": 0,
              "version_major": 2
            },
            "text/plain": [
              "HBox(children=(FloatProgress(value=0.0, description='Downloading', max=438235074.0, style=ProgressStyle(descri…"
            ]
          },
          "metadata": {
            "tags": []
          }
        },
        {
          "output_type": "stream",
          "text": [
            "\n"
          ],
          "name": "stdout"
        },
        {
          "output_type": "display_data",
          "data": {
            "application/vnd.jupyter.widget-view+json": {
              "model_id": "93dd0c8f78ea49e9b8d2782eb7924dfc",
              "version_minor": 0,
              "version_major": 2
            },
            "text/plain": [
              "HBox(children=(FloatProgress(value=0.0, description='Downloading', max=209528.0, style=ProgressStyle(descripti…"
            ]
          },
          "metadata": {
            "tags": []
          }
        },
        {
          "output_type": "stream",
          "text": [
            "\n"
          ],
          "name": "stdout"
        },
        {
          "output_type": "display_data",
          "data": {
            "application/vnd.jupyter.widget-view+json": {
              "model_id": "a5897f419ca44623be3adb78664d0525",
              "version_minor": 0,
              "version_major": 2
            },
            "text/plain": [
              "HBox(children=(FloatProgress(value=0.0, description='Downloading', max=2.0, style=ProgressStyle(description_wi…"
            ]
          },
          "metadata": {
            "tags": []
          }
        },
        {
          "output_type": "stream",
          "text": [
            "\n"
          ],
          "name": "stdout"
        },
        {
          "output_type": "display_data",
          "data": {
            "application/vnd.jupyter.widget-view+json": {
              "model_id": "26ccb52689474a51a68bcb7f2955fb06",
              "version_minor": 0,
              "version_major": 2
            },
            "text/plain": [
              "HBox(children=(FloatProgress(value=0.0, description='Downloading', max=112.0, style=ProgressStyle(description_…"
            ]
          },
          "metadata": {
            "tags": []
          }
        },
        {
          "output_type": "stream",
          "text": [
            "\n"
          ],
          "name": "stdout"
        },
        {
          "output_type": "display_data",
          "data": {
            "application/vnd.jupyter.widget-view+json": {
              "model_id": "f8612920141f40469eb4a5b73cd26e15",
              "version_minor": 0,
              "version_major": 2
            },
            "text/plain": [
              "HBox(children=(FloatProgress(value=0.0, description='Downloading', max=43.0, style=ProgressStyle(description_w…"
            ]
          },
          "metadata": {
            "tags": []
          }
        },
        {
          "output_type": "stream",
          "text": [
            "\n"
          ],
          "name": "stdout"
        }
      ]
    },
    {
      "cell_type": "markdown",
      "metadata": {
        "id": "t4RUjCJBnZJ7"
      },
      "source": [
        "## Tests"
      ]
    },
    {
      "cell_type": "code",
      "metadata": {
        "colab": {
          "base_uri": "https://localhost:8080/"
        },
        "id": "Wn0gt-yt7h7f",
        "outputId": "78d2d475-81d0-4c34-8b6c-fa3d4a19d4da"
      },
      "source": [
        "# input_ids = tokenizer.encode('Banco', return_tensors='pt') # pt == pytorch tensors\n",
        "input_ids = tokenizer.encode('brasil', return_tensors='np', add_special_tokens=False) \n",
        "print(input_ids)\n",
        "# with torch.no_grad():\n",
        "#     outs = model(input_ids)\n",
        "#     encoded = outs[0][0, 1:-1]\n",
        "\n",
        "# print(len(encoded))\n",
        "# print(encoded)"
      ],
      "execution_count": null,
      "outputs": [
        {
          "output_type": "stream",
          "text": [
            "[[1010  215]]\n"
          ],
          "name": "stdout"
        }
      ]
    },
    {
      "cell_type": "code",
      "metadata": {
        "colab": {
          "base_uri": "https://localhost:8080/"
        },
        "id": "ANCJngkanSAG",
        "outputId": "6bc53bd6-421f-4078-d2fe-d9ccdde0ecc5"
      },
      "source": [
        "sample = \"Eu tranferi um dinheiro do Bradesco pra conta da Nubank na forma TED era pra cair na hora e não caiu alguém sabe me explicar do porque ainda não caiu???\"\n",
        "sample = unidecode(''.join(c for c in sample.lower() if c.isalnum() or c == ' '))\n",
        "print(sample)"
      ],
      "execution_count": null,
      "outputs": [
        {
          "output_type": "stream",
          "text": [
            "eu tranferi um dinheiro do bradesco pra conta da nubank na forma ted era pra cair na hora e nao caiu alguem sabe me explicar do porque ainda nao caiu\n"
          ],
          "name": "stdout"
        }
      ]
    },
    {
      "cell_type": "code",
      "metadata": {
        "id": "doyVIWF881IB"
      },
      "source": [
        "# print(tokenizer.tokenize(sample))\n",
        "# print(len(tokenizer.tokenize(sample)))"
      ],
      "execution_count": null,
      "outputs": []
    },
    {
      "cell_type": "code",
      "metadata": {
        "colab": {
          "base_uri": "https://localhost:8080/"
        },
        "id": "IiCavXqWnIMe",
        "outputId": "13783bbd-2bd3-4728-cf94-36b67bac4af9"
      },
      "source": [
        "encoding = tokenizer.encode_plus(\n",
        "  sample,\n",
        "  max_length=100,\n",
        "  add_special_tokens=True, # Add '[CLS]' and '[SEP]'\n",
        "  return_token_type_ids=False,\n",
        "  padding='max_length',\n",
        "  return_attention_mask=True,\n",
        "  return_tensors='pt',  # Return PyTorch tensors\n",
        ")\n",
        "# encoding.keys()\n",
        "\n",
        "print(len(encoding['input_ids'][0]))\n",
        "print(encoding['input_ids'][0])\n",
        "print(encoding['attention_mask'][0])"
      ],
      "execution_count": null,
      "outputs": [
        {
          "output_type": "stream",
          "text": [
            "100\n",
            "tensor([  101,  2779,  8196,   725, 22283,   222,  3495,   171,  4332, 19813,\n",
            "         1174,  1284,   180,  1444,  5319, 22331,   229,   547,   437, 22284,\n",
            "          495,  1174,  9322,   229,  5314,   122,   229, 22280,  6600,   614,\n",
            "          210,  4178,   311,  9718,   171,  2113,   744,   229, 22280,  6600,\n",
            "          102,     0,     0,     0,     0,     0,     0,     0,     0,     0,\n",
            "            0,     0,     0,     0,     0,     0,     0,     0,     0,     0,\n",
            "            0,     0,     0,     0,     0,     0,     0,     0,     0,     0,\n",
            "            0,     0,     0,     0,     0,     0,     0,     0,     0,     0,\n",
            "            0,     0,     0,     0,     0,     0,     0,     0,     0,     0,\n",
            "            0,     0,     0,     0,     0,     0,     0,     0,     0,     0])\n",
            "tensor([1, 1, 1, 1, 1, 1, 1, 1, 1, 1, 1, 1, 1, 1, 1, 1, 1, 1, 1, 1, 1, 1, 1, 1,\n",
            "        1, 1, 1, 1, 1, 1, 1, 1, 1, 1, 1, 1, 1, 1, 1, 1, 1, 0, 0, 0, 0, 0, 0, 0,\n",
            "        0, 0, 0, 0, 0, 0, 0, 0, 0, 0, 0, 0, 0, 0, 0, 0, 0, 0, 0, 0, 0, 0, 0, 0,\n",
            "        0, 0, 0, 0, 0, 0, 0, 0, 0, 0, 0, 0, 0, 0, 0, 0, 0, 0, 0, 0, 0, 0, 0, 0,\n",
            "        0, 0, 0, 0])\n"
          ],
          "name": "stdout"
        }
      ]
    },
    {
      "cell_type": "code",
      "metadata": {
        "id": "T0LIvySC5bKS",
        "colab": {
          "base_uri": "https://localhost:8080/"
        },
        "outputId": "05986fcc-aca1-436e-e295-96188319a6cc"
      },
      "source": [
        "with torch.no_grad():\n",
        "    last_hidden_states = bert_model(encoding['input_ids'], attention_mask=encoding['attention_mask'])\n",
        "\n",
        "last_hidden_states"
      ],
      "execution_count": null,
      "outputs": [
        {
          "output_type": "execute_result",
          "data": {
            "text/plain": [
              "BaseModelOutputWithPoolingAndCrossAttentions([('last_hidden_state',\n",
              "                                               tensor([[[ 0.1523, -0.4904,  0.2555,  ..., -0.5522,  0.1028, -0.3075],\n",
              "                                                        [ 0.3485, -0.3699,  0.3692,  ...,  0.1952,  0.0594, -0.1596],\n",
              "                                                        [ 0.1378, -0.2091,  0.9594,  ..., -0.1914, -0.2921, -0.8497],\n",
              "                                                        ...,\n",
              "                                                        [ 0.2756, -0.4099,  0.3662,  ...,  0.4792, -0.2992, -0.4784],\n",
              "                                                        [ 0.1909, -0.2545,  0.3394,  ...,  0.4693, -0.2626, -0.3726],\n",
              "                                                        [ 0.4592, -0.3135,  0.4242,  ...,  0.3944, -0.0203, -0.5740]]])),\n",
              "                                              ('pooler_output',\n",
              "                                               tensor([[-1.8347e-01,  7.5434e-02, -8.0949e-02,  1.2367e-01, -2.2875e-02,\n",
              "                                                        -1.0549e-01,  9.3119e-01, -4.3754e-02, -6.0463e-02, -6.0760e-02,\n",
              "                                                         1.8900e-01,  2.3341e-02, -9.0154e-02, -8.8912e-02,  2.1716e-01,\n",
              "                                                         1.9834e-02, -2.2613e-02,  7.3169e-04,  2.3861e-01,  9.6934e-01,\n",
              "                                                        -3.0166e-01, -4.1049e-02,  5.0300e-02,  6.0032e-02, -4.4282e-02,\n",
              "                                                        -1.7806e-01, -3.5408e-02,  7.3301e-02,  4.3652e-02, -6.7625e-02,\n",
              "                                                        -2.3443e-01, -9.8233e-01,  2.0302e-01,  2.6426e-03, -2.4325e-01,\n",
              "                                                        -2.1355e-01,  2.2377e-02,  6.1552e-02, -3.4770e-01,  2.9352e-01,\n",
              "                                                         2.8365e-02, -1.9208e-01, -1.1895e-01, -1.2425e-01,  8.9075e-02,\n",
              "                                                        -1.8378e-01,  1.2007e-01,  6.5379e-02,  2.1545e-01, -2.0879e-01,\n",
              "                                                        -1.8771e-01,  6.4736e-02,  1.8246e-01,  9.7978e-02, -1.1493e-01,\n",
              "                                                        -3.1953e-01, -9.5043e-02, -1.1393e-01, -3.6214e-02, -1.4661e-01,\n",
              "                                                         2.1982e-02, -4.4010e-02,  9.4541e-02,  3.3707e-02,  1.1385e-01,\n",
              "                                                         6.5512e-03,  1.8782e-02,  1.7497e-02, -3.3364e-01, -1.8944e-02,\n",
              "                                                         5.7990e-02, -4.3435e-01,  1.9785e-01,  1.5317e-01,  1.2418e-01,\n",
              "                                                        -2.3914e-01, -6.3056e-02,  7.9746e-02,  2.4857e-02,  6.0867e-02,\n",
              "                                                        -8.3314e-02, -8.4958e-03, -1.2301e-01, -1.5879e-01, -8.8166e-02,\n",
              "                                                        -1.3382e-01,  1.1411e-01, -1.0234e-03,  1.1242e-01, -1.1726e-01,\n",
              "                                                         4.5914e-02,  3.1573e-01, -2.7181e-01,  2.1769e-02,  1.3011e-01,\n",
              "                                                        -1.2927e-04,  2.0901e-01,  2.7586e-01, -3.2978e-02,  2.3086e-01,\n",
              "                                                         1.2355e-01, -6.7355e-03,  1.5542e-01,  4.9518e-02,  1.4613e-01,\n",
              "                                                         5.6505e-01, -9.7199e-02,  2.1952e-02,  1.0977e-02,  1.0066e-02,\n",
              "                                                         1.4880e-01, -3.3050e-01,  4.4828e-02,  8.0436e-02, -1.3866e-01,\n",
              "                                                        -3.8743e-01,  7.5445e-02, -3.4045e-02,  7.2315e-02,  1.1076e-01,\n",
              "                                                        -3.4627e-03,  4.6022e-02, -1.2622e-01,  9.6957e-02,  4.4597e-02,\n",
              "                                                        -5.4165e-02, -1.5981e-02, -1.1184e-01, -6.1824e-02,  5.1888e-03,\n",
              "                                                         8.0832e-01, -1.4609e-01,  6.3100e-02, -4.9114e-02, -3.7679e-02,\n",
              "                                                        -3.9845e-02, -2.4818e-01,  4.3096e-02,  8.4545e-01,  2.2759e-01,\n",
              "                                                         7.3421e-02,  3.1772e-03,  4.1027e-02,  1.6883e-01,  1.9491e-01,\n",
              "                                                        -5.8118e-02, -1.6835e-01,  4.3892e-02,  9.7798e-01, -1.5647e-01,\n",
              "                                                        -4.5298e-02, -2.7522e-02,  1.1814e-01,  1.0834e-01,  7.4443e-02,\n",
              "                                                        -9.3807e-02, -1.9150e-01, -4.2254e-02, -8.3906e-02, -1.3988e-01,\n",
              "                                                         3.3895e-01, -4.0607e-02, -4.7400e-02, -1.6282e-01, -6.8346e-03,\n",
              "                                                        -2.8609e-01, -1.9796e-01, -1.1875e-01,  3.4841e-02, -1.4381e-01,\n",
              "                                                         1.1317e-01,  2.6832e-02, -2.0210e-01,  2.3565e-01, -2.5285e-02,\n",
              "                                                        -4.3405e-02,  1.0264e-01,  1.6908e-01, -1.8405e-01, -6.1397e-02,\n",
              "                                                         2.0622e-01,  8.5931e-02, -3.4659e-02,  2.1114e-02,  5.8095e-02,\n",
              "                                                         1.5810e-01,  1.8272e-01,  1.7415e-02,  3.9569e-02, -2.5375e-01,\n",
              "                                                         2.2070e-02,  7.6840e-02, -1.5059e-02,  4.7565e-02, -8.5908e-02,\n",
              "                                                        -1.3757e-01,  1.1642e-01, -6.0760e-03,  4.2853e-02,  1.1169e-01,\n",
              "                                                         1.7254e-02, -2.0232e-01,  1.7013e-01, -5.7544e-02, -2.2061e-01,\n",
              "                                                        -2.7433e-01,  7.9511e-02, -1.5757e-02, -1.4829e-01, -7.4100e-02,\n",
              "                                                         9.9774e-01, -2.0776e-02, -1.3802e-01, -8.4941e-01,  5.2728e-02,\n",
              "                                                         4.2606e-02,  6.8483e-02,  1.3660e-01, -1.6701e-02,  1.9855e-01,\n",
              "                                                         9.2979e-02, -4.3086e-02, -1.1191e-01,  1.0704e-01, -1.0475e-01,\n",
              "                                                         5.1268e-02, -6.0145e-03, -3.3086e-02, -5.6260e-02, -7.7723e-02,\n",
              "                                                        -2.5633e-02,  2.0625e-02,  3.3435e-02,  1.8440e-02, -1.4462e-02,\n",
              "                                                        -7.7880e-01,  8.9238e-02, -7.8159e-02, -5.5931e-01,  1.9934e-01,\n",
              "                                                         5.1264e-03,  9.7978e-01, -5.2749e-03,  8.9542e-01, -1.8764e-02,\n",
              "                                                         1.1195e-01,  1.0499e-01,  1.8960e-01, -1.0269e-01, -9.9190e-02,\n",
              "                                                         9.9347e-01,  2.0388e-01,  9.0357e-02,  1.3825e-01, -8.0640e-02,\n",
              "                                                        -9.4841e-01,  1.0381e-01,  3.3449e-02,  1.1935e-01, -8.1290e-02,\n",
              "                                                        -5.8366e-02,  2.7585e-01, -2.8949e-01,  5.7464e-02,  6.5875e-01,\n",
              "                                                        -4.4182e-02, -8.7934e-02, -1.7532e-02, -1.0225e-01, -1.1166e-01,\n",
              "                                                         1.3125e-02,  9.6329e-02, -2.0538e-02, -2.1877e-01,  3.4871e-02,\n",
              "                                                         2.1111e-01,  6.1420e-03,  2.6520e-01, -1.0192e-01, -5.2961e-02,\n",
              "                                                         9.0485e-03,  2.6330e-01, -7.8923e-02, -3.0804e-01,  3.9422e-02,\n",
              "                                                        -6.2390e-02,  2.2951e-01, -6.2331e-02,  4.4818e-01,  1.6632e-01,\n",
              "                                                         1.5772e-01,  4.1020e-02,  1.1714e-01,  1.5573e-01,  3.5791e-01,\n",
              "                                                        -2.4613e-01, -9.2453e-02,  9.4479e-02, -3.4831e-02,  3.8186e-02,\n",
              "                                                         1.7563e-01, -6.6807e-02,  1.5395e-01, -9.9924e-01, -1.3971e-01,\n",
              "                                                        -1.8456e-01,  1.1378e-01, -9.9122e-01, -3.8285e-02,  6.8170e-02,\n",
              "                                                        -1.7503e-01,  3.7633e-02, -6.5947e-03, -7.1534e-02,  2.7194e-01,\n",
              "                                                        -1.0927e-01,  9.0085e-01, -5.1815e-02,  8.6623e-01,  1.1249e-01,\n",
              "                                                         5.7723e-02,  6.4625e-02, -2.5583e-01,  9.7395e-01, -2.2102e-01,\n",
              "                                                        -2.4158e-01, -9.4519e-02, -8.5917e-01,  3.5730e-01, -2.6478e-02,\n",
              "                                                        -9.4738e-01,  7.5509e-01,  3.0941e-01, -9.7607e-01,  3.9602e-02,\n",
              "                                                         1.9286e-01, -1.5987e-01,  4.1900e-02,  1.3877e-01, -1.0409e-01,\n",
              "                                                        -2.3814e-01,  1.7472e-01,  4.8219e-01,  5.9460e-02, -9.1311e-02,\n",
              "                                                         5.0352e-02,  1.3381e-01, -1.1351e-01, -8.8329e-02,  1.1278e-01,\n",
              "                                                         2.6126e-01, -2.3599e-01, -4.0064e-02, -7.0839e-02, -3.1608e-01,\n",
              "                                                         2.8483e-01, -1.3084e-02, -1.5817e-01, -1.0860e-01, -9.5999e-02,\n",
              "                                                        -6.6407e-02,  1.6841e-01, -6.0098e-02,  1.6522e-03, -1.2279e-01,\n",
              "                                                         7.8283e-02,  1.1558e-01, -2.6526e-02, -1.8296e-02,  8.9815e-02,\n",
              "                                                         1.5083e-01, -9.8358e-01, -8.2058e-02, -2.8012e-01,  5.0952e-02,\n",
              "                                                        -2.1448e-02,  4.1773e-01,  8.9299e-02, -5.9054e-02,  6.3020e-02,\n",
              "                                                         1.1225e-01, -3.3128e-02, -2.4644e-02,  6.2448e-02,  8.4284e-02,\n",
              "                                                         2.2817e-01, -8.0254e-01,  6.6819e-01,  4.8339e-02, -3.9239e-02,\n",
              "                                                         7.4707e-02,  7.5140e-02,  8.8640e-01,  5.0095e-01,  6.3896e-02,\n",
              "                                                         7.1495e-02,  2.4280e-01, -5.7261e-03, -1.4567e-01,  4.1737e-02,\n",
              "                                                        -8.8897e-02,  5.2961e-03, -6.0150e-02, -8.8117e-02,  2.0451e-02,\n",
              "                                                         6.6721e-03, -1.4744e-01,  2.0144e-01, -6.9573e-02,  5.7563e-02,\n",
              "                                                        -6.1188e-02, -5.0497e-02, -2.4888e-02, -6.8795e-01, -2.9382e-02,\n",
              "                                                         3.5778e-02,  9.6804e-02, -7.5125e-02, -2.1158e-01,  7.0162e-03,\n",
              "                                                         5.8967e-01,  9.6821e-01, -5.8492e-02, -1.4830e-01, -2.2397e-02,\n",
              "                                                         2.7782e-01,  2.5788e-02, -1.0334e-01, -5.0763e-02, -2.7915e-02,\n",
              "                                                         9.1921e-03, -2.3466e-02,  2.5278e-02,  4.6995e-02, -2.9331e-01,\n",
              "                                                         1.4358e-01,  2.7721e-01, -2.8922e-01,  1.2168e-01,  1.0777e-01,\n",
              "                                                         1.3066e-01,  4.0149e-01,  5.1721e-01, -1.0117e-01,  5.8215e-02,\n",
              "                                                        -1.6242e-01,  1.1588e-01, -1.4663e-02, -2.3099e-02, -5.2933e-02,\n",
              "                                                         1.9864e-01, -1.4428e-02, -1.1727e-02, -4.6634e-02,  3.4461e-02,\n",
              "                                                         7.1393e-02,  9.8194e-01,  9.2341e-02, -1.1500e-01,  5.7239e-02,\n",
              "                                                        -3.0524e-01,  1.0329e-01,  2.3706e-01, -4.5204e-02,  1.8798e-01,\n",
              "                                                        -4.6036e-02,  3.6368e-02,  2.8190e-01, -1.6509e-01,  2.7985e-04,\n",
              "                                                        -9.2973e-01, -1.4379e-01, -9.9894e-01, -2.2297e-01,  6.9923e-02,\n",
              "                                                        -1.2750e-01,  4.0504e-01,  6.0146e-02, -1.2034e-01, -1.2634e-01,\n",
              "                                                         1.7037e-01, -4.8729e-02,  1.8127e-02,  9.2969e-02, -7.8318e-02,\n",
              "                                                         1.1390e-01,  7.0903e-02, -6.8169e-02, -1.3507e-01, -2.1877e-02,\n",
              "                                                         4.8995e-02,  1.6701e-01, -5.8803e-02, -3.5455e-01,  4.3548e-01,\n",
              "                                                         8.5967e-03,  2.2117e-01,  4.1092e-02, -2.8236e-02,  1.0233e-01,\n",
              "                                                         7.4582e-01, -1.8828e-02,  7.4948e-02, -8.0291e-02,  4.9992e-02,\n",
              "                                                         3.1850e-01,  2.1134e-01,  5.5891e-02, -6.9443e-01,  1.8548e-01,\n",
              "                                                        -4.5560e-01,  1.5275e-01,  9.9816e-03,  2.5778e-02,  9.4121e-01,\n",
              "                                                         1.0515e-01, -3.4027e-02, -6.8179e-02, -2.4035e-01,  8.3032e-02,\n",
              "                                                         5.3939e-02, -1.1997e-01,  9.8082e-02, -8.3874e-02,  1.2238e-02,\n",
              "                                                         9.8739e-01,  7.9898e-02,  3.6635e-02,  7.4001e-02, -9.2115e-02,\n",
              "                                                        -1.9444e-01, -5.7212e-02, -3.2660e-02,  9.8296e-01, -2.6678e-02,\n",
              "                                                         1.6137e-01, -1.0052e-01,  9.9324e-01, -8.4854e-02, -1.2231e-01,\n",
              "                                                        -2.4754e-03, -1.8813e-01,  2.1380e-01,  5.5601e-03,  1.2528e-01,\n",
              "                                                        -1.0513e-02,  1.4103e-01,  2.5179e-01, -6.5417e-02,  1.6642e-02,\n",
              "                                                         1.9842e-01, -1.7611e-01, -1.5102e-01, -1.1471e-01,  3.9869e-02,\n",
              "                                                         2.0132e-01,  1.5623e-01, -3.7593e-01,  2.1121e-01, -1.1624e-01,\n",
              "                                                         8.3956e-02, -1.6162e-01,  4.8281e-03, -1.4616e-01,  9.7372e-01,\n",
              "                                                         3.8779e-02, -2.0603e-01,  3.4473e-02,  6.7123e-03, -3.4659e-02,\n",
              "                                                         8.1916e-02, -6.7734e-02, -2.5300e-02, -2.2938e-01,  1.1789e-01,\n",
              "                                                         1.0172e-01,  1.4104e-02,  1.4480e-01,  1.6139e-02, -1.2350e-01,\n",
              "                                                         1.0085e-01, -2.0082e-01, -7.0531e-02, -3.3790e-02, -1.5740e-01,\n",
              "                                                         6.1220e-04,  5.8118e-02, -6.5212e-02, -9.1235e-02, -2.2165e-01,\n",
              "                                                        -1.8377e-01, -1.6277e-01, -9.0412e-03, -9.0277e-02, -9.1694e-02,\n",
              "                                                        -8.9589e-03,  8.8909e-02, -9.0267e-02, -6.7643e-02,  1.5010e-01,\n",
              "                                                         7.3266e-02, -2.1811e-01, -9.6895e-02, -1.0220e-01, -4.8005e-02,\n",
              "                                                        -7.4020e-02, -8.3135e-01,  8.8835e-02, -1.0970e-01, -4.6087e-02,\n",
              "                                                         9.5155e-02, -1.1986e-01,  5.8061e-02,  1.6264e-01, -2.0963e-01,\n",
              "                                                         5.4026e-02, -6.1369e-02, -9.0819e-02,  1.3537e-01,  2.0036e-02,\n",
              "                                                        -7.0556e-01, -1.7416e-01,  1.9211e-01, -2.9455e-03,  6.8888e-01,\n",
              "                                                         5.9614e-02,  1.5212e-01,  2.9567e-02,  7.9442e-02, -2.2959e-01,\n",
              "                                                         3.8030e-02,  1.6301e-01,  3.1887e-03, -5.5603e-02,  1.6668e-01,\n",
              "                                                        -4.3945e-02,  2.5086e-02,  2.2807e-01, -2.3924e-04,  2.1905e-01,\n",
              "                                                         2.6151e-01,  1.2145e-01, -2.1303e-01, -1.8983e-02,  9.0746e-02,\n",
              "                                                        -2.1122e-01,  5.9571e-02, -1.3155e-01, -3.0109e-02, -5.7305e-02,\n",
              "                                                        -3.5450e-02, -1.1209e-01, -2.3768e-01,  2.5483e-02,  1.5466e-01,\n",
              "                                                         1.3910e-01,  1.3809e-01, -8.3213e-02, -2.9356e-02, -4.9649e-01,\n",
              "                                                         7.3969e-02, -2.5783e-02,  4.6791e-02, -7.4217e-02, -1.0677e-01,\n",
              "                                                         3.0522e-03, -4.7953e-02, -3.7698e-02, -2.8302e-01,  1.5558e-01,\n",
              "                                                         3.6449e-02,  7.9468e-02, -1.8929e-01,  8.2945e-02, -2.9275e-03,\n",
              "                                                        -1.1035e-01,  9.9929e-02,  1.2613e-01, -1.8291e-01, -1.1912e-01,\n",
              "                                                         5.1594e-01, -4.9051e-02, -1.5916e-01,  1.0538e-01,  8.9101e-02,\n",
              "                                                        -1.2319e-01, -4.4102e-02, -1.0505e-01, -7.1648e-03, -1.8267e-01,\n",
              "                                                         6.9460e-02,  1.4358e-01,  1.0719e-01, -7.9527e-02, -1.0582e-01,\n",
              "                                                        -6.7920e-02, -2.0486e-01, -1.0290e-01, -1.7144e-01,  2.9170e-02,\n",
              "                                                         1.2436e-01,  1.3813e-02, -2.3741e-02, -2.6846e-02, -4.0829e-02,\n",
              "                                                         3.5397e-02,  7.5131e-02, -2.3473e-01,  5.5730e-01,  4.1332e-02,\n",
              "                                                        -1.5999e-01,  2.1038e-01,  6.6148e-02,  1.7616e-01,  8.9322e-02,\n",
              "                                                         2.3636e-01,  3.2470e-02, -3.5696e-01,  8.8047e-02, -6.8043e-02,\n",
              "                                                        -3.6527e-02, -8.8086e-01, -2.6882e-02, -5.1002e-02, -1.1576e-01,\n",
              "                                                        -2.5263e-01,  6.2430e-02,  1.3338e-01,  1.8121e-02,  9.6765e-02,\n",
              "                                                         2.2930e-01,  1.4811e-01, -9.5086e-02,  1.1769e-01,  1.2320e-01,\n",
              "                                                        -1.6200e-01, -2.2296e-01,  1.9702e-01, -8.6550e-02,  2.6439e-02,\n",
              "                                                         3.2403e-01, -4.3872e-02, -4.1254e-02, -1.7787e-01, -1.9732e-02,\n",
              "                                                         7.3332e-02, -6.2001e-02, -4.3179e-02,  8.8255e-01,  2.0966e-01,\n",
              "                                                        -1.6353e-02,  1.0371e-01, -3.1761e-02, -4.6618e-02, -2.6752e-02,\n",
              "                                                        -1.8748e-01,  3.5773e-01, -3.3699e-02,  8.5361e-02, -4.1618e-02,\n",
              "                                                         1.0094e-01,  7.1133e-01, -5.7122e-02,  6.7281e-02, -9.5378e-03,\n",
              "                                                        -7.6315e-02, -1.0834e-01, -1.4109e-01]]))])"
            ]
          },
          "metadata": {
            "tags": []
          },
          "execution_count": 81
        }
      ]
    },
    {
      "cell_type": "code",
      "metadata": {
        "id": "7P1eUxQ06S2p",
        "colab": {
          "base_uri": "https://localhost:8080/"
        },
        "outputId": "8a9f2a0a-bbf7-4408-dca3-366733d2f451"
      },
      "source": [
        "features = last_hidden_states[0][:,0,:].numpy()\n",
        "print(features)"
      ],
      "execution_count": null,
      "outputs": [
        {
          "output_type": "stream",
          "text": [
            "[[ 1.52250811e-01 -4.90394473e-01  2.55453438e-01 -4.55293059e-01\n",
            "   6.84672415e-01  4.40870136e-01 -1.14103325e-01  4.14126217e-01\n",
            "   1.04695126e-01  5.05802572e-01 -2.38476366e-01  3.74412000e-01\n",
            "  -1.14908725e-01 -8.83286834e-01  9.12145525e-02  8.89936313e-02\n",
            "  -3.42116326e-01  3.58302325e-01  1.86703466e-02  4.47669625e-02\n",
            "  -4.03186977e-01  2.94000715e-01  9.96866971e-02  1.15009539e-01\n",
            "   1.73238441e-01 -3.14020403e-02 -4.77160633e-01  5.98942578e-01\n",
            "   5.85707724e-01  7.35906214e-02 -1.23555586e-01  4.16242778e-01\n",
            "   3.13680947e-01  1.18071258e-01 -7.12796152e-01 -5.06621659e-01\n",
            "  -1.77628309e-01 -4.54526320e-02  1.28552049e-01 -1.77131549e-01\n",
            "   3.87519270e-01  4.26965982e-01  1.23904392e-01  1.26919642e-01\n",
            "  -4.02285792e-02 -1.22478768e-01 -3.26906353e-01 -9.57922116e-02\n",
            "  -1.83053643e-01  3.65122169e-01  1.24855270e-03 -1.90708011e-01\n",
            "  -4.75983679e-01  1.37353852e-01  2.17017576e-01 -3.52647781e-01\n",
            "   1.70543388e-01 -4.22987416e-02 -1.78507030e-01  2.27408290e-01\n",
            "  -6.38377488e-01  4.80786622e-01  7.32310772e-01 -3.30557466e-01\n",
            "  -1.19922936e-01  9.43683460e-02  4.50563937e-01  1.43377900e-01\n",
            "   7.02447355e-01 -9.75554958e-02 -4.45222631e-02 -3.95531267e-01\n",
            "   9.79725182e-01 -7.36528099e-01 -1.42126575e-01 -2.67389685e-01\n",
            "   1.03233308e-01  2.14528024e-01 -3.82707834e-01  1.73641548e-01\n",
            "   7.92779326e-02 -4.83182371e-01 -8.64061534e-01  9.14126873e-01\n",
            "  -2.43445173e-01  6.83601975e-01 -2.90960312e-01  7.98748881e-02\n",
            "  -4.83304746e-02 -6.94832563e-01  3.16060513e-01 -3.99678469e-01\n",
            "  -1.14424780e-01  5.10461219e-02 -3.03827643e-01 -2.59098504e-02\n",
            "  -3.02474946e-01  2.76696798e-03  1.63734592e-02  1.74113095e-01\n",
            "  -3.86753236e-03  8.72243941e-02  5.84651113e-01 -1.22946605e-01\n",
            "   1.63418099e-01  4.35630977e-02 -1.55933887e-01  7.05840766e-01\n",
            "   1.94745287e-01  8.25158432e-02  6.28292799e-01 -6.19901657e-01\n",
            "   4.52844828e-01 -1.16000816e-01  6.26100719e-01 -5.94377890e-02\n",
            "  -1.93403699e-02 -1.03773149e-02  4.55406517e-01 -7.88225651e-01\n",
            "   4.14867491e-01 -2.93959856e-01  2.96564281e-01  3.61779571e-01\n",
            "   5.56099534e-01 -1.07398622e-01  2.08063081e-01 -2.68888682e-01\n",
            "   5.72597682e-01 -3.21393795e-02 -3.39660347e-02 -7.64790848e-02\n",
            "   4.72642720e-01 -2.52932876e-01  3.33177626e-01 -5.52808531e-02\n",
            "  -3.46869797e-01  6.81188330e-02  4.55063283e-02  4.46297109e-01\n",
            "   1.06959246e-01 -7.80621022e-02 -3.77363116e-01  3.35666031e-01\n",
            "  -3.71870220e-01  3.27056378e-01 -2.86180884e-01  2.17088431e-01\n",
            "   3.27464670e-01 -1.09444395e-01  8.63201499e-01  9.77781191e-02\n",
            "   2.09279671e-01  3.21736813e-01 -2.33065486e-01  6.83135986e-01\n",
            "  -4.33930680e-02  4.37415428e-02  4.69918370e-01  8.90703350e-02\n",
            "   4.30167079e-01  1.27984256e-01 -7.43614614e-01  5.46143174e-01\n",
            "   3.53763342e-01 -2.29337737e-02 -3.23579252e-01 -1.13118120e-01\n",
            "  -1.73961177e-01  4.93873470e-02 -2.63627875e-03 -7.52297789e-02\n",
            "   1.78647980e-01  3.55564915e-02 -2.89342046e-01 -4.55254287e-01\n",
            "   4.95132446e-01 -3.22524970e-03  1.20492727e-01 -1.95412755e-01\n",
            "  -6.45105839e-01  1.76832855e-01  3.21458787e-01 -1.07216805e-01\n",
            "   2.63521522e-01  2.84259468e-01 -1.66216165e-01  1.63286969e-01\n",
            "  -8.83399174e-02  4.58932407e-02  6.65128410e-01  1.36454090e-01\n",
            "  -1.03592351e-01 -7.76635885e-01 -2.86997646e-01 -1.43858297e-02\n",
            "  -3.86553198e-01  1.68743059e-01  2.90610403e-01 -4.73845601e-02\n",
            "  -3.24514538e-01  2.44093403e-01  3.28925639e-01 -2.10046515e-01\n",
            "  -1.69307962e-01  3.76503728e-02  2.63500124e-01  3.40032801e-02\n",
            "  -2.07783461e-01  8.07304978e-01 -6.51534259e-01  1.30807802e-01\n",
            "  -8.85202050e-01 -2.31461197e-01 -4.15739536e-01 -3.47659379e-01\n",
            "   4.36684459e-01 -1.23888184e-03 -2.36713782e-01  1.05959766e-01\n",
            "  -7.81930052e-03  8.04388881e-01 -5.97952724e-01  5.09587407e-01\n",
            "   4.11349118e-01  1.50683641e-01 -4.40451019e-02  1.55667797e-01\n",
            "   6.93088248e-02  5.73006272e-01 -1.62505031e-01 -2.88338363e-01\n",
            "   8.94362107e-02 -4.96631891e-01 -4.48555946e+00 -6.92225471e-02\n",
            "   3.47734123e-01  4.54083048e-02  2.75595137e-03  1.24135740e-01\n",
            "  -1.14600457e-01 -1.35558859e-01  2.70975769e-01 -8.63615870e-01\n",
            "   3.42592388e-01 -2.40011752e-01 -6.10764503e-01  6.77422047e-01\n",
            "  -7.60113776e-01  9.20288712e-02  1.25216424e-01  3.05452019e-01\n",
            "  -5.68417199e-02  3.92723173e-01  7.62301832e-02  1.27529994e-01\n",
            "  -3.30581337e-01  1.64946079e-01  1.15365282e-01 -2.42777020e-02\n",
            "  -6.31939173e-02  4.69023874e-03 -3.25274020e-01 -3.47593814e-01\n",
            "   5.07548153e-01 -1.68570444e-01 -3.39310467e-02  1.99483290e-01\n",
            "  -1.38186276e-01 -1.44746214e-01 -1.71814889e-01 -1.83716640e-01\n",
            "  -1.27136379e-01 -3.61729294e-01  1.45691469e-01 -7.00606778e-02\n",
            "  -2.22044215e-01 -3.04063946e-01  1.42178893e-01  1.86027765e-01\n",
            "   5.16349971e-01  3.62371773e-01 -2.94179261e-01 -1.28400669e-01\n",
            "   1.17796190e-01 -1.87629536e-02 -3.16608250e-01  2.48198286e-01\n",
            "   1.67983547e-01  3.46710831e-01 -3.53083283e-01  1.47600994e-01\n",
            "  -8.68675709e-02 -1.07405707e-01 -3.16661358e-01 -3.21623653e-01\n",
            "  -7.98863098e-02 -5.11463344e-01  1.33753374e-01 -1.39435202e-01\n",
            "  -7.08880350e-02  5.85816920e-01  1.23748079e-01 -2.23237015e-02\n",
            "  -1.59953609e-01 -9.14559737e-02  3.56216609e-01 -4.30546433e-01\n",
            "  -2.25433990e-01 -6.32511079e-02 -1.50392488e-01 -1.79113805e-01\n",
            "  -3.34954202e-01  4.42624927e-01 -4.95195150e-01 -1.63244262e-01\n",
            "  -2.27099985e-01 -4.29560663e-03  3.23855907e-01  6.20864451e-01\n",
            "  -1.65420286e-02  6.76748157e-01 -4.90038604e-01 -2.39755407e-01\n",
            "  -3.96633754e-03  1.43331036e-01 -2.34194249e-01  2.47307822e-01\n",
            "   3.98678124e-01  2.20836580e-01 -7.64038712e-02  5.44138849e-01\n",
            "  -5.13657928e-01 -1.73209205e-01  1.02646001e-01  9.56722572e-02\n",
            "  -2.75911521e-02  3.77798557e-01  1.46069869e-01 -6.05567813e-01\n",
            "   3.17770571e-01 -5.43055117e-01  4.87526149e-01 -1.78794995e-01\n",
            "   6.85634911e-01 -2.94984251e-01 -3.32537889e-01  2.29087636e-01\n",
            "   4.46507126e-01 -6.91358522e-02  1.20615490e-01 -3.69625032e-01\n",
            "  -3.84927876e-02 -3.32543015e-01 -5.11345029e-01  5.19838929e-01\n",
            "  -1.76675633e-01 -2.34168634e-01  8.23986158e-02  1.19548947e-01\n",
            "   2.82380283e-02  7.90444136e-01 -9.53512728e-01  4.46525924e-02\n",
            "   2.49518111e-01  2.20579073e-01  7.98370596e-03  2.35845640e-01\n",
            "  -3.20428222e-01  1.92697302e-01 -5.65690994e-02 -6.03896856e-01\n",
            "   5.34357727e-01 -4.56084460e-02 -1.67890504e-01 -3.04585733e-02\n",
            "  -3.30716223e-02 -3.79867047e-01 -2.76537955e-01  3.43094945e-01\n",
            "  -6.72619715e-02 -1.12088189e-01 -5.42630494e-01  7.22401381e-01\n",
            "   3.89753729e-02 -1.15111917e-01 -7.20522583e-01  1.23736098e-01\n",
            "   4.14190322e-01 -1.05784863e-01  1.53238341e-01 -9.72854719e-02\n",
            "   6.30922914e-02  1.35714650e-01 -1.46696353e-02 -6.27029479e-01\n",
            "  -4.87910539e-01 -5.21795690e-01 -3.66273731e-01 -9.79008079e-02\n",
            "  -1.27813980e-01  2.49125928e-01  2.95955569e-01 -3.93772483e-01\n",
            "  -3.55989896e-02 -1.16092958e-01  1.20782626e+00 -7.19316602e-02\n",
            "   3.29776794e-01  3.86152446e-01  9.21408460e-02 -5.59213042e-01\n",
            "   1.48150951e-01  2.33843938e-01 -7.19096186e-03 -2.60889471e-01\n",
            "   2.43267283e-01  3.19958866e-01 -2.16327026e-01  3.76651883e-01\n",
            "   2.80817777e-01  8.00935552e-03  1.18157193e-01 -4.41181868e-01\n",
            "   1.82927027e-01 -2.31562182e-01 -2.09076270e-01  2.15521559e-01\n",
            "  -3.54664952e-01 -7.20189139e-02 -1.67990476e-01 -1.83229968e-01\n",
            "   7.77249932e-02 -9.43519473e-01  1.11350946e-01 -5.75105488e-01\n",
            "   8.82774368e-02  6.80485144e-02  1.72582775e-01  5.65456629e-01\n",
            "   5.33706844e-01 -3.17388684e-01 -2.52197057e-01  5.31711578e-01\n",
            "  -4.37444001e-01  3.33785087e-01  2.57201433e-01 -2.85604745e-01\n",
            "   1.92058921e-01  3.66724074e-01  3.28025259e-02 -7.19436109e-01\n",
            "   3.89301866e-01  3.40727657e-01 -3.49330276e-01 -2.24517539e-01\n",
            "  -8.36551726e-01 -2.92576820e-01 -1.69957325e-01 -4.92557526e-01\n",
            "   9.09095630e-02  1.70620695e-01 -8.68727788e-02  4.62894551e-02\n",
            "   4.52404797e-01 -3.99947196e-01 -6.27686977e-02  5.41377589e-02\n",
            "   4.15086836e-01  4.53511566e-01 -8.54840696e-01  1.04938424e+00\n",
            "   8.63765597e-01 -6.80216029e-03  1.33677237e-02  1.13638379e-01\n",
            "   2.01531723e-01 -3.39823931e-01  1.92161620e-01  4.50391471e-01\n",
            "  -2.76713103e-01  7.07116485e-01 -6.23203218e-02 -2.70476937e-01\n",
            "   2.66298771e-01  2.54609287e-01  8.97960365e-02 -4.68016446e-01\n",
            "  -1.17957048e-01  1.09959178e-01  2.90644139e-01  3.30866277e-01\n",
            "  -2.96105653e-01  1.18473750e-02  1.88453019e-01 -3.66269797e-01\n",
            "   5.10320842e-01  1.12909794e-01 -4.22394276e-01 -9.18135494e-02\n",
            "  -2.90623069e-01 -2.05632776e-01 -3.25102597e-01 -2.16735303e-01\n",
            "  -5.29740632e-01 -6.65427931e-03  1.09289534e-01  4.65540648e-01\n",
            "  -6.02075383e-02  4.97412644e-02  3.09353858e-01 -1.86658204e-01\n",
            "  -1.91091150e-01  7.45502055e-01  1.62926540e-01  9.61737428e-03\n",
            "   1.53373003e-01 -5.37530780e-01 -5.69362223e-01 -2.46333256e-01\n",
            "   1.77467123e-01 -6.45762831e-02  4.17605899e-02 -6.87025070e-01\n",
            "   4.30875182e-01  2.35729981e-02 -1.57983080e-01  5.35787821e-01\n",
            "   1.65224999e-01 -4.53422308e-01  3.66802782e-01  1.89874694e-01\n",
            "  -6.11716270e-01 -1.19957440e-01 -1.09362923e-01  1.09496459e-01\n",
            "  -3.52872610e-01  3.52264553e-01 -4.28344429e-01 -8.42035785e-02\n",
            "   2.23399609e-01 -6.70802817e-02 -5.52958921e-02 -3.54820579e-01\n",
            "  -2.66372144e-01 -2.54195839e-01  5.45329511e-01  6.65906966e-02\n",
            "  -1.85001388e-01  1.78425550e-01 -1.35502145e-01  4.07248050e-01\n",
            "  -4.65816110e-02  7.36143231e-01  3.51458222e-01  4.25576836e-01\n",
            "   4.79253292e-01 -2.10871518e-01  4.50970799e-01 -9.98649001e-02\n",
            "  -3.76533061e-01  2.98330873e-01 -1.26528859e-01  3.35169822e-01\n",
            "   4.29671891e-02 -2.20759362e-01 -2.33293757e-01 -1.69440717e-01\n",
            "   3.16187024e-01  1.86377838e-01  3.24666739e-01 -9.84721780e-02\n",
            "   1.15914658e-01  1.89101040e-01 -1.41327223e-02 -2.76347548e-01\n",
            "  -8.70981812e-02  1.78601965e-01 -4.84621733e-01  2.06522182e-01\n",
            "  -1.65833563e-01  1.47860035e-01  3.31728727e-01  4.42266315e-01\n",
            "  -5.93786418e-01 -1.49521321e-01  9.24359187e-02  1.86803892e-01\n",
            "  -4.18987960e-01  2.99256086e-01  1.70491599e-02 -1.92516118e-01\n",
            "   2.76173592e-01  2.52046049e-01  4.93713796e-01 -2.11500540e-01\n",
            "  -4.51213211e-01 -1.21523134e-01  1.03580952e-01 -5.70890605e-02\n",
            "   1.94503367e-02 -3.73432845e-01 -1.40880793e-01 -4.82731551e-01\n",
            "   2.24390075e-01 -1.71780422e-01  8.66264552e-02 -2.80422568e-02\n",
            "   8.72583166e-02  2.83868581e-01  1.78129256e-01  3.43002230e-01\n",
            "  -2.80609667e-01  2.52243094e-02  3.13496590e-01  2.31742293e-01\n",
            "   2.51984805e-01 -2.81415343e-01  3.84279281e-01  7.26085246e-01\n",
            "   3.22409958e-01  3.94768536e-01  3.69372129e-01 -4.49312389e-01\n",
            "  -9.31820497e-02 -2.24951148e-01  7.43213370e-02 -2.90754437e-01\n",
            "  -4.28241976e-02 -9.78393257e-01  7.72301137e-01  6.29940927e-01\n",
            "   1.28662512e-01  5.36861308e-02  2.95589805e-01  2.43388861e-01\n",
            "   1.09963611e-01 -2.40788668e-01  1.82521865e-01 -2.40588799e-01\n",
            "  -3.69785905e-01  5.43692350e-01 -3.21461082e-01 -1.42999694e-01\n",
            "   1.04847029e-02  7.82449450e-03 -4.91841078e-01  2.52681822e-01\n",
            "  -1.32208586e-01  8.27923268e-02  2.16010496e-01 -2.12003782e-01\n",
            "   2.13122398e-01 -1.26548111e-01 -2.11882830e-01  2.26377949e-01\n",
            "  -9.60661843e-02 -4.45999980e-01  1.90160036e-01  9.30556297e-01\n",
            "  -1.01410992e-01  3.21322978e-01 -4.77321967e-02 -4.30104524e-01\n",
            "   2.37773713e-02  1.13283023e-01 -1.78899795e-01 -2.41530582e-01\n",
            "  -1.96992919e-01  1.46570891e-01 -4.05277401e-01  3.92872363e-01\n",
            "  -2.42755666e-01 -1.86662957e-01  3.38406086e-01 -6.15675926e-01\n",
            "   9.73734483e-02  1.34245947e-01  4.70859259e-02 -8.42676461e-02\n",
            "  -1.14130244e-01  2.79796124e-01  1.15571171e-01 -2.94455320e-01\n",
            "  -6.28681704e-02  7.02487677e-02  5.26373506e-01  3.30678642e-01\n",
            "  -3.40710580e-01 -1.57960325e-01  2.25200906e-01 -9.40651372e-02\n",
            "   1.93325818e-01  2.64847782e-02 -6.20411575e-01 -2.63044417e-01\n",
            "   1.35489374e-01  1.90514773e-01  9.44223329e-02  1.13618508e-01\n",
            "  -3.19050133e-01 -1.01183939e+00 -4.52222079e-02  4.50023234e-01\n",
            "   2.33388543e-01 -5.09023443e-02  3.44633788e-01 -2.15209454e-01\n",
            "   3.29372287e-01  2.91715056e-01  4.02941644e-01  2.95956999e-01\n",
            "  -9.45580602e-02 -4.48034108e-01 -3.44127044e-02 -3.53756696e-01\n",
            "  -4.29665744e-01 -3.02891940e-01  3.19369078e-01  2.27092087e-01\n",
            "   2.31824324e-01 -6.22429371e-01  2.72158273e-02 -5.59880614e-01\n",
            "   5.67050517e-01  2.92229325e-01  1.28796324e-02  1.81213841e-01\n",
            "  -4.89041388e-01  2.39276081e-01  4.34272110e-01 -2.74188113e+00\n",
            "  -1.64671749e-01  5.24950325e-01 -9.46042687e-02 -6.16933331e-02\n",
            "  -7.01486647e-01 -1.00590587e-01 -2.45014787e-01 -2.04001188e-01\n",
            "   3.35360825e-01  3.70674819e-01  9.17129666e-02  2.52727360e-01\n",
            "   3.29569727e-01 -1.97694018e-01  3.45542938e-01  6.35031223e-01\n",
            "   3.43245625e-01 -1.99853182e-01  2.56527692e-01 -6.18921697e-01\n",
            "  -9.51784924e-02 -2.38762528e-01 -3.14735234e-01  7.80386448e-01\n",
            "   1.16397589e-01 -1.24262214e-01  3.79254162e-01  2.08692551e-01\n",
            "  -1.37080744e-01  5.89164384e-02  7.18503773e-01 -3.84957254e-01\n",
            "   2.74988800e-01 -5.52204072e-01  1.02816537e-01 -3.07547331e-01]]\n"
          ],
          "name": "stdout"
        }
      ]
    },
    {
      "cell_type": "code",
      "metadata": {
        "id": "D1W3WaS3oHOT"
      },
      "source": [
        "tokenizer.convert_ids_to_tokens(encoding['input_ids'][0])"
      ],
      "execution_count": null,
      "outputs": []
    },
    {
      "cell_type": "code",
      "metadata": {
        "id": "90GIelHJqGUR"
      },
      "source": [
        ""
      ],
      "execution_count": null,
      "outputs": []
    },
    {
      "cell_type": "markdown",
      "metadata": {
        "id": "PlgTFs0jmcGx"
      },
      "source": [
        "## Gerar dataset"
      ]
    },
    {
      "cell_type": "code",
      "metadata": {
        "id": "RMuZRqrPfhhW"
      },
      "source": [
        "def get_max_len(dataset):\n",
        "    return len(max(dataset[\"text\"], key=lambda s: len(s)))\n",
        "\n",
        "def encode(text, tokenizer, max_len, return_tensors='np'):\n",
        "    return tokenizer.encode_plus(\n",
        "        text,\n",
        "        max_length=min(512, max_len),\n",
        "        add_special_tokens=True,\n",
        "        return_token_type_ids=False,\n",
        "        padding='max_length',\n",
        "        return_attention_mask=True,\n",
        "        return_tensors=return_tensors\n",
        "    )"
      ],
      "execution_count": 4,
      "outputs": []
    },
    {
      "cell_type": "markdown",
      "metadata": {
        "id": "2-UCBwvAzZGK"
      },
      "source": [
        "Dataset para o sklearn"
      ]
    },
    {
      "cell_type": "code",
      "metadata": {
        "id": "ZxBRPHoDzdvl"
      },
      "source": [
        "def PageDatasetSklearn(dataset, tokenizer, model):\n",
        "    '''Use example:\n",
        "    X, y = PageDatasetSklearn(nubank, tokenizer, bert_model)'''\n",
        "\n",
        "    df = dataset.copy()\n",
        "\n",
        "    max_len = get_max_len(df)\n",
        "\n",
        "    texts = list(df['text'])\n",
        "\n",
        "    texts = map(lambda t: encode(t, tokenizer, max_len), texts)\n",
        "    \n",
        "    texts = list(texts)\n",
        "    \n",
        "    # A primeira declaracao retorna uma lista de lista de tamanho 1 com a frase codificada: [[['oi']], [['opa']]]\n",
        "    # A segunda retira essa lista de cada lista: [['oi'], ['opa']]\n",
        "    input_ids = [t['input_ids'] for t in texts]\n",
        "    input_ids = [list(x[0]) for x in input_ids]\n",
        "    attention_mask = [t['attention_mask'] for t in texts]\n",
        "    attention_mask = [list(x[0]) for x in attention_mask]\n",
        "\n",
        "    with torch.no_grad():\n",
        "        last_hidden_states = model(torch.tensor(input_ids), attention_mask=torch.tensor(attention_mask))\n",
        "    \n",
        "    # Pega só a saida do primeiro token [CLS] que vai servir para a classificacao\n",
        "    features = last_hidden_states[0][:,0,:].numpy()\n",
        "    return features, df['target']\n",
        "\n"
      ],
      "execution_count": 5,
      "outputs": []
    },
    {
      "cell_type": "markdown",
      "metadata": {
        "id": "WEQEla07zO3z"
      },
      "source": [
        "Dataset e data loader para o pytorch"
      ]
    },
    {
      "cell_type": "code",
      "metadata": {
        "id": "97DQuyafmgwz"
      },
      "source": [
        "class PageDatasetTorch(Dataset):\n",
        "\n",
        "    def __init__(self, dataset, tokenizer):\n",
        "        self.texts = dataset['text'].to_numpy()\n",
        "        self.targets = dataset['target'].to_numpy()\n",
        "        self.tokenizer = tokenizer\n",
        "        self.max_len = min(get_max_len(dataset), 512)\n",
        "\n",
        "    def __len__(self):\n",
        "        return len(self.texts)\n",
        "\n",
        "    def __getitem__(self, item):\n",
        "        text = str(self.texts[item])\n",
        "        target = self.targets[item]\n",
        "\n",
        "        encoding = encode(text, self.tokenizer, self.max_len)\n",
        "\n",
        "        return {\n",
        "            'text': text,\n",
        "            'input_ids': encoding['input_ids'].flatten(),\n",
        "            'attention_mask': encoding['attention_mask'].flatten(),\n",
        "            'targets': torch.tensor(target, dtype=torch.long)\n",
        "        }"
      ],
      "execution_count": 6,
      "outputs": []
    },
    {
      "cell_type": "code",
      "metadata": {
        "id": "REH3RcLQvVmD"
      },
      "source": [
        "def create_data_loader(dataset, tokenizer):\n",
        "    BATCH_SIZE = 1\n",
        "    df = PageDatasetTorch(dataset, tokenizer)\n",
        "\n",
        "    return DataLoader(\n",
        "        df, batch_size=BATCH_SIZE, num_workers=4\n",
        "    )"
      ],
      "execution_count": 7,
      "outputs": []
    },
    {
      "cell_type": "markdown",
      "metadata": {
        "id": "6fYyIg-CxlAq"
      },
      "source": [
        "Chamar `create_data_loader` para o conjunto de treino, validacao e teste"
      ]
    },
    {
      "cell_type": "markdown",
      "metadata": {
        "id": "_1Sog_FSF4up"
      },
      "source": [
        "## Modelo"
      ]
    },
    {
      "cell_type": "code",
      "metadata": {
        "id": "oqjbu8asYsDz",
        "colab": {
          "resources": {
            "http://localhost:8080/nbextensions/google.colab/files.js": {
              "data": "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",
              "ok": true,
              "headers": [
                [
                  "content-type",
                  "application/javascript"
                ]
              ],
              "status": 200,
              "status_text": ""
            }
          },
          "base_uri": "https://localhost:8080/",
          "height": 73
        },
        "outputId": "10178694-441b-4cef-8a35-b9009815f007"
      },
      "source": [
        "# from google.colab import files\n",
        "# uploaded = files.upload()\n",
        "# import io\n",
        "# dataset = pd.read_csv(io.BytesIO(uploaded['nubank.csv']))"
      ],
      "execution_count": null,
      "outputs": [
        {
          "output_type": "display_data",
          "data": {
            "text/html": [
              "\n",
              "     <input type=\"file\" id=\"files-b8f6ed23-0829-4263-9fd2-f3a2e4f2fc62\" name=\"files[]\" multiple disabled\n",
              "        style=\"border:none\" />\n",
              "     <output id=\"result-b8f6ed23-0829-4263-9fd2-f3a2e4f2fc62\">\n",
              "      Upload widget is only available when the cell has been executed in the\n",
              "      current browser session. Please rerun this cell to enable.\n",
              "      </output>\n",
              "      <script src=\"/nbextensions/google.colab/files.js\"></script> "
            ],
            "text/plain": [
              "<IPython.core.display.HTML object>"
            ]
          },
          "metadata": {
            "tags": []
          }
        },
        {
          "output_type": "stream",
          "text": [
            "Saving nubank.csv to nubank.csv\n"
          ],
          "name": "stdout"
        }
      ]
    },
    {
      "cell_type": "code",
      "metadata": {
        "id": "UHfmX3B4CxVA"
      },
      "source": [
        "nubank = pd.read_csv('./nubank.csv')\n",
        "nuvem = pd.read_csv('./nuvem.csv')\n",
        "shopify = pd.read_csv('./shopify.csv')\n",
        "vtex = pd.read_csv('./vtex.csv')"
      ],
      "execution_count": 8,
      "outputs": []
    },
    {
      "cell_type": "markdown",
      "metadata": {
        "id": "bx9luFrgYkDC"
      },
      "source": [
        "### Pytorch"
      ]
    },
    {
      "cell_type": "code",
      "metadata": {
        "id": "T-BCFK8JNjD1"
      },
      "source": [
        "# data = next(iter(train_data_loader))\n",
        "# data.keys()"
      ],
      "execution_count": null,
      "outputs": []
    },
    {
      "cell_type": "code",
      "metadata": {
        "id": "htJlaryYGPsP"
      },
      "source": [
        "class PageClassifier(nn.Module):\n",
        "\n",
        "    def __init__(self, n_classes):\n",
        "        super(PageClassifier, self).__init__()\n",
        "        self.bert = AutoModel.from_pretrained('neuralmind/bert-base-portuguese-cased')\n",
        "        self.drop = nn.Dropout(p=0.3)\n",
        "        self.out = nn.Linear(self.bert.config.hidden_size, n_classes)\n",
        "\n",
        "    def forward(self, input_ids, attention_mask):\n",
        "        last_hidden_states = self.bert(\n",
        "            input_ids=input_ids,\n",
        "            attention_mask=attention_mask\n",
        "        )\n",
        "        output = self.drop(last_hidden_states[1])\n",
        "        return self.out(output)"
      ],
      "execution_count": 9,
      "outputs": []
    },
    {
      "cell_type": "code",
      "metadata": {
        "id": "sQ3gwUJ_NxMZ"
      },
      "source": [
        "df_train, df_test = train_test_split(dataset, test_size=0.33, random_state=RANDOM_SEED)"
      ],
      "execution_count": null,
      "outputs": []
    },
    {
      "cell_type": "code",
      "metadata": {
        "id": "okpBUvXoHUCG",
        "colab": {
          "base_uri": "https://localhost:8080/"
        },
        "outputId": "5a8c79eb-a66b-42c9-fae3-4b001266a017"
      },
      "source": [
        "train_data_loader = create_data_loader(df_train, tokenizer)\n",
        "test_data_loader = create_data_loader(df_test, tokenizer)"
      ],
      "execution_count": null,
      "outputs": [
        {
          "output_type": "stream",
          "text": [
            "/usr/local/lib/python3.7/dist-packages/torch/utils/data/dataloader.py:477: UserWarning: This DataLoader will create 4 worker processes in total. Our suggested max number of worker in current system is 2, which is smaller than what this DataLoader is going to create. Please be aware that excessive worker creation might get DataLoader running slow or even freeze, lower the worker number to avoid potential slowness/freeze if necessary.\n",
            "  cpuset_checked))\n"
          ],
          "name": "stderr"
        }
      ]
    },
    {
      "cell_type": "markdown",
      "metadata": {
        "id": "YM2EaPvROtxV"
      },
      "source": [
        "#### Como rodar"
      ]
    },
    {
      "cell_type": "code",
      "metadata": {
        "colab": {
          "base_uri": "https://localhost:8080/"
        },
        "id": "aYl8Cz--N1It",
        "outputId": "252c332b-c120-4a57-b5d3-dba8a4e21628"
      },
      "source": [
        "data = next(iter(train_data_loader))"
      ],
      "execution_count": null,
      "outputs": [
        {
          "output_type": "stream",
          "text": [
            "/usr/local/lib/python3.7/dist-packages/torch/utils/data/dataloader.py:477: UserWarning: This DataLoader will create 4 worker processes in total. Our suggested max number of worker in current system is 2, which is smaller than what this DataLoader is going to create. Please be aware that excessive worker creation might get DataLoader running slow or even freeze, lower the worker number to avoid potential slowness/freeze if necessary.\n",
            "  cpuset_checked))\n"
          ],
          "name": "stderr"
        }
      ]
    },
    {
      "cell_type": "code",
      "metadata": {
        "id": "nm7rG20SICJU"
      },
      "source": [
        "input_ids = data['input_ids'].to(device)\n",
        "attention_mask = data['attention_mask'].to(device)"
      ],
      "execution_count": null,
      "outputs": []
    },
    {
      "cell_type": "code",
      "metadata": {
        "id": "TC8DH6vGHgXP"
      },
      "source": [
        "PyTorchModel = PageClassifier(2)\n",
        "PyTorchModel = PyTorchModel.to(device)"
      ],
      "execution_count": 11,
      "outputs": []
    },
    {
      "cell_type": "code",
      "metadata": {
        "colab": {
          "base_uri": "https://localhost:8080/"
        },
        "id": "UEsC_kRdGExP",
        "outputId": "ba4135ad-2dd5-4e91-d3cd-34386115e059"
      },
      "source": [
        "F.softmax(PyTorchModel(input_ids, attention_mask), dim=1)"
      ],
      "execution_count": null,
      "outputs": [
        {
          "output_type": "execute_result",
          "data": {
            "text/plain": [
              "tensor([[0.4009, 0.5991]], device='cuda:0', grad_fn=<SoftmaxBackward>)"
            ]
          },
          "metadata": {
            "tags": []
          },
          "execution_count": 51
        }
      ]
    },
    {
      "cell_type": "markdown",
      "metadata": {
        "id": "HLounLFIOzqU"
      },
      "source": [
        "#### Treinando"
      ]
    },
    {
      "cell_type": "code",
      "metadata": {
        "id": "f1lW_uyCPVDZ"
      },
      "source": [
        "def train_epoch(\n",
        "  model, \n",
        "  data_loader, \n",
        "  loss_fn, \n",
        "  optimizer, \n",
        "  device, \n",
        "  scheduler, \n",
        "  n_examples\n",
        "):\n",
        "  model = model.train()\n",
        "\n",
        "  losses = []\n",
        "  correct_predictions = 0\n",
        "  \n",
        "  for d in data_loader:\n",
        "    input_ids = d[\"input_ids\"].to(device)\n",
        "    attention_mask = d[\"attention_mask\"].to(device)\n",
        "    targets = d[\"targets\"].to(device)\n",
        "\n",
        "    outputs = model(\n",
        "      input_ids=input_ids,\n",
        "      attention_mask=attention_mask\n",
        "    )\n",
        "\n",
        "    _, preds = torch.max(outputs, dim=1)\n",
        "    loss = loss_fn(outputs, targets)\n",
        "\n",
        "    correct_predictions += torch.sum(preds == targets)\n",
        "    losses.append(loss.item())\n",
        "\n",
        "    loss.backward()\n",
        "    nn.utils.clip_grad_norm_(model.parameters(), max_norm=1.0)\n",
        "    optimizer.step()\n",
        "    scheduler.step()\n",
        "    optimizer.zero_grad()\n",
        "\n",
        "  return correct_predictions.double() / n_examples, np.mean(losses)"
      ],
      "execution_count": 13,
      "outputs": []
    },
    {
      "cell_type": "code",
      "metadata": {
        "id": "098ph349QNHJ"
      },
      "source": [
        "def eval_model(model, data_loader, loss_fn, device, n_examples):\n",
        "  model = model.eval()\n",
        "\n",
        "  losses = []\n",
        "  correct_predictions = 0\n",
        "\n",
        "  with torch.no_grad():\n",
        "    for d in data_loader:\n",
        "      input_ids = d[\"input_ids\"].to(device)\n",
        "      attention_mask = d[\"attention_mask\"].to(device)\n",
        "      targets = d[\"targets\"].to(device)\n",
        "\n",
        "      outputs = model(\n",
        "        input_ids=input_ids,\n",
        "        attention_mask=attention_mask\n",
        "      )\n",
        "      _, preds = torch.max(outputs, dim=1)\n",
        "\n",
        "      loss = loss_fn(outputs, targets)\n",
        "\n",
        "      correct_predictions += torch.sum(preds == targets)\n",
        "      losses.append(loss.item())\n",
        "\n",
        "  return correct_predictions.double() / n_examples, np.mean(losses)"
      ],
      "execution_count": 14,
      "outputs": []
    },
    {
      "cell_type": "code",
      "metadata": {
        "id": "NYugqjobNC7C"
      },
      "source": [
        "EPOCHS = 4\n",
        "\n",
        "optimizer = AdamW(PyTorchModel.parameters(), lr=3e-4, correct_bias=False)\n",
        "total_steps = len(train_data_loader) * EPOCHS\n",
        "\n",
        "scheduler = get_linear_schedule_with_warmup(\n",
        "  optimizer,\n",
        "  num_warmup_steps=0,\n",
        "  num_training_steps=total_steps\n",
        ")\n",
        "\n",
        "loss_fn = nn.CrossEntropyLoss().to(device)"
      ],
      "execution_count": null,
      "outputs": []
    },
    {
      "cell_type": "code",
      "metadata": {
        "colab": {
          "base_uri": "https://localhost:8080/"
        },
        "id": "eYKHsiXAQiOa",
        "outputId": "972a51b8-5598-4498-f8b7-6bdc933a03c1"
      },
      "source": [
        "%%time\n",
        "\n",
        "history = defaultdict(list)\n",
        "best_accuracy = 0\n",
        "\n",
        "for epoch in range(EPOCHS):\n",
        "\n",
        "  print(f'Epoch {epoch + 1}/{EPOCHS}')\n",
        "  print('-' * 10)\n",
        "\n",
        "  train_acc, train_loss = train_epoch(\n",
        "    PyTorchModel,\n",
        "    train_data_loader,    \n",
        "    loss_fn, \n",
        "    optimizer, \n",
        "    device, \n",
        "    scheduler, \n",
        "    len(df_train)\n",
        "  )\n",
        "\n",
        "  print(f'Train loss {train_loss} accuracy {train_acc}')\n",
        "\n",
        "#   val_acc, val_loss = eval_model(\n",
        "#     PyTorchModel,\n",
        "#     val_data_loader,\n",
        "#     loss_fn, \n",
        "#     device, \n",
        "#     len(df_val)\n",
        "#   )\n",
        "\n",
        "#   print(f'Val   loss {val_loss} accuracy {val_acc}')\n",
        "#   print()\n",
        "\n",
        "  history['train_acc'].append(train_acc)\n",
        "  history['train_loss'].append(train_loss)\n",
        "#   history['val_acc'].append(val_acc)\n",
        "#   history['val_loss'].append(val_loss)\n",
        "\n",
        "  if train_acc > best_accuracy:\n",
        "    torch.save(PyTorchModel.state_dict(), 'best_model_state.bin')\n",
        "    best_accuracy = train_acc"
      ],
      "execution_count": null,
      "outputs": [
        {
          "output_type": "stream",
          "text": [
            "Epoch 1/4\n",
            "----------\n"
          ],
          "name": "stdout"
        },
        {
          "output_type": "stream",
          "text": [
            "/usr/local/lib/python3.7/dist-packages/torch/utils/data/dataloader.py:477: UserWarning: This DataLoader will create 4 worker processes in total. Our suggested max number of worker in current system is 2, which is smaller than what this DataLoader is going to create. Please be aware that excessive worker creation might get DataLoader running slow or even freeze, lower the worker number to avoid potential slowness/freeze if necessary.\n",
            "  cpuset_checked))\n"
          ],
          "name": "stderr"
        },
        {
          "output_type": "stream",
          "text": [
            "Train loss 3.368763352540327e-05 accuracy 1.0\n",
            "Epoch 2/4\n",
            "----------\n",
            "Train loss 0.0 accuracy 1.0\n",
            "Epoch 3/4\n",
            "----------\n",
            "Train loss 0.0 accuracy 1.0\n",
            "Epoch 4/4\n",
            "----------\n",
            "Train loss 0.0 accuracy 1.0\n",
            "CPU times: user 4.97 s, sys: 3.62 s, total: 8.58 s\n",
            "Wall time: 9.39 s\n"
          ],
          "name": "stdout"
        }
      ]
    },
    {
      "cell_type": "markdown",
      "metadata": {
        "id": "xz-wabeaRtYG"
      },
      "source": [
        "#### Avaliacao"
      ]
    },
    {
      "cell_type": "code",
      "metadata": {
        "colab": {
          "base_uri": "https://localhost:8080/"
        },
        "id": "BHlS-2-FRs54",
        "outputId": "9cfed4c1-9256-4dc5-9ff2-6d5eb746a5ce"
      },
      "source": [
        "test_acc, _ = eval_model(\n",
        "  PyTorchModel,\n",
        "  test_data_loader,\n",
        "  loss_fn,\n",
        "  device,\n",
        "  len(df_test)\n",
        ")\n",
        "test_acc.item()"
      ],
      "execution_count": null,
      "outputs": [
        {
          "output_type": "stream",
          "text": [
            "/usr/local/lib/python3.7/dist-packages/torch/utils/data/dataloader.py:477: UserWarning: This DataLoader will create 4 worker processes in total. Our suggested max number of worker in current system is 2, which is smaller than what this DataLoader is going to create. Please be aware that excessive worker creation might get DataLoader running slow or even freeze, lower the worker number to avoid potential slowness/freeze if necessary.\n",
            "  cpuset_checked))\n"
          ],
          "name": "stderr"
        },
        {
          "output_type": "execute_result",
          "data": {
            "text/plain": [
              "1.0"
            ]
          },
          "metadata": {
            "tags": []
          },
          "execution_count": 68
        }
      ]
    },
    {
      "cell_type": "code",
      "metadata": {
        "id": "1svt0bOuR2Rx"
      },
      "source": [
        "def get_predictions(model, data_loader):\n",
        "  model = model.eval()\n",
        "  \n",
        "  review_texts = []\n",
        "  predictions = []\n",
        "  prediction_probs = []\n",
        "  real_values = []\n",
        "\n",
        "  with torch.no_grad():\n",
        "    for d in data_loader:\n",
        "\n",
        "      texts = d[\"text\"]\n",
        "      input_ids = d[\"input_ids\"].to(device)\n",
        "      attention_mask = d[\"attention_mask\"].to(device)\n",
        "      targets = d[\"targets\"].to(device)\n",
        "\n",
        "      outputs = model(\n",
        "        input_ids=input_ids,\n",
        "        attention_mask=attention_mask\n",
        "      )\n",
        "      _, preds = torch.max(outputs, dim=1)\n",
        "\n",
        "      probs = F.softmax(outputs, dim=1)\n",
        "\n",
        "      review_texts.extend(texts)\n",
        "      predictions.extend(preds)\n",
        "      prediction_probs.extend(probs)\n",
        "      real_values.extend(targets)\n",
        "\n",
        "  predictions = torch.stack(predictions).cpu()\n",
        "  prediction_probs = torch.stack(prediction_probs).cpu()\n",
        "  real_values = torch.stack(real_values).cpu()\n",
        "  return review_texts, predictions, prediction_probs, real_values"
      ],
      "execution_count": null,
      "outputs": []
    },
    {
      "cell_type": "code",
      "metadata": {
        "colab": {
          "base_uri": "https://localhost:8080/"
        },
        "id": "_YyfpJxnR8bN",
        "outputId": "3f286943-663e-40f2-e1b4-c73d60cf3917"
      },
      "source": [
        "y_texts, y_pred, y_pred_probs, y_test = get_predictions(\n",
        "  PyTorchModel,\n",
        "  test_data_loader\n",
        ")"
      ],
      "execution_count": null,
      "outputs": [
        {
          "output_type": "stream",
          "text": [
            "/usr/local/lib/python3.7/dist-packages/torch/utils/data/dataloader.py:477: UserWarning: This DataLoader will create 4 worker processes in total. Our suggested max number of worker in current system is 2, which is smaller than what this DataLoader is going to create. Please be aware that excessive worker creation might get DataLoader running slow or even freeze, lower the worker number to avoid potential slowness/freeze if necessary.\n",
            "  cpuset_checked))\n"
          ],
          "name": "stderr"
        }
      ]
    },
    {
      "cell_type": "code",
      "metadata": {
        "colab": {
          "base_uri": "https://localhost:8080/"
        },
        "id": "WOBW8SOZSU1h",
        "outputId": "bfc1838a-78da-48db-8930-07e163dce9af"
      },
      "source": [
        "print(classification_report(y_test, y_pred))"
      ],
      "execution_count": null,
      "outputs": [
        {
          "output_type": "stream",
          "text": [
            "              precision    recall  f1-score   support\n",
            "\n",
            "           0       1.00      1.00      1.00         5\n",
            "           1       1.00      1.00      1.00         2\n",
            "\n",
            "    accuracy                           1.00         7\n",
            "   macro avg       1.00      1.00      1.00         7\n",
            "weighted avg       1.00      1.00      1.00         7\n",
            "\n"
          ],
          "name": "stdout"
        }
      ]
    },
    {
      "cell_type": "markdown",
      "metadata": {
        "id": "sSfe8HvI19Vw"
      },
      "source": [
        "#### Cross validation"
      ]
    },
    {
      "cell_type": "code",
      "metadata": {
        "id": "_fa5YKaXPM1u"
      },
      "source": [
        "def cross_val_pytorch(dataset, num_epochs=4):\n",
        "\n",
        "\n",
        "    kfold = KFold(n_splits=4, shuffle=True)\n",
        "\n",
        "    # df_train, df_test = train_test_split(dataset, test_size=0.25, random_state=RANDOM_SEED)\n",
        "\n",
        "    # train_scores = []\n",
        "    test_scores = []\n",
        "\n",
        "    for fold, (train_ids, test_ids) in enumerate(kfold.split(dataset)):\n",
        "        train = dataset.iloc[train_ids]\n",
        "        test = dataset.iloc[test_ids]\n",
        "\n",
        "        train_data_loader = create_data_loader(train, tokenizer)\n",
        "        test_data_loader = create_data_loader(test, tokenizer)\n",
        "\n",
        "        network = PageClassifier(2)\n",
        "        network = network.to(device)\n",
        "\n",
        "        total_steps = len(train_data_loader) * num_epochs\n",
        "\n",
        "        optimizer = AdamW(network.parameters(), lr=3e-4, correct_bias=False)\n",
        "        scheduler = get_linear_schedule_with_warmup(\n",
        "            optimizer,\n",
        "            num_warmup_steps=0,\n",
        "            num_training_steps=total_steps\n",
        "        )\n",
        "\n",
        "        loss_fn = nn.CrossEntropyLoss().to(device)\n",
        "\n",
        "        # epoch_scores = []\n",
        "\n",
        "        for epoch in range(num_epochs):\n",
        "            train_acc, train_loss = train_epoch(\n",
        "                network,\n",
        "                train_data_loader,    \n",
        "                loss_fn, \n",
        "                optimizer, \n",
        "                device, \n",
        "                scheduler, \n",
        "                len(nubank_train)\n",
        "            )\n",
        "\n",
        "            # epoch_scores.append(train_acc)\n",
        "\n",
        "        test_acc, _ = eval_model(\n",
        "            network,\n",
        "            test_data_loader,\n",
        "            loss_fn,\n",
        "            device,\n",
        "            len(nubank_test)\n",
        "        )\n",
        "\n",
        "        test_scores.append(test_acc)\n",
        "\n",
        "        torch.cuda.empty_cache()\n",
        "    \n",
        "    return test_scores"
      ],
      "execution_count": 21,
      "outputs": []
    },
    {
      "cell_type": "code",
      "metadata": {
        "id": "cd4ryFDRSgKU",
        "colab": {
          "base_uri": "https://localhost:8080/"
        },
        "outputId": "308ed85c-d14c-425c-94eb-9727a2577b6b"
      },
      "source": [
        "num_epochs=4\n",
        "\n",
        "kfold = KFold(n_splits=4, shuffle=True)\n",
        "\n",
        "df_train, df_test = train_test_split(nubank, test_size=0.25, random_state=RANDOM_SEED)\n",
        "\n",
        "# train_scores = []\n",
        "test_scores = []\n",
        "\n",
        "for fold, (train_ids, test_ids) in enumerate(kfold.split(nubank)):\n",
        "    # print(test_ids)\n",
        "    nubank_train = nubank.iloc[train_ids]\n",
        "    nubank_test = nubank.iloc[test_ids]\n",
        "    # print(nubank_train)\n",
        "\n",
        "    train_data_loader = create_data_loader(nubank_train, tokenizer)\n",
        "    test_data_loader = create_data_loader(nubank_test, tokenizer)\n",
        "\n",
        "    network = PageClassifier(2)\n",
        "    network = network.to(device)\n",
        "\n",
        "    total_steps = len(train_data_loader) * num_epochs\n",
        "\n",
        "    optimizer = AdamW(network.parameters(), lr=3e-4, correct_bias=False)\n",
        "    scheduler = get_linear_schedule_with_warmup(\n",
        "        optimizer,\n",
        "        num_warmup_steps=0,\n",
        "        num_training_steps=total_steps\n",
        "    )\n",
        "\n",
        "    loss_fn = nn.CrossEntropyLoss().to(device)\n",
        "\n",
        "    epoch_scores = []\n",
        "\n",
        "    for epoch in range(num_epochs):\n",
        "        train_acc, train_loss = train_epoch(\n",
        "            network,\n",
        "            train_data_loader,    \n",
        "            loss_fn, \n",
        "            optimizer, \n",
        "            device, \n",
        "            scheduler, \n",
        "            len(nubank_train)\n",
        "        )\n",
        "\n",
        "        epoch_scores.append(train_acc)\n",
        "\n",
        "    test_acc, _ = eval_model(\n",
        "        network,\n",
        "        test_data_loader,\n",
        "        loss_fn,\n",
        "        device,\n",
        "        len(nubank_test)\n",
        "    )\n",
        "\n",
        "    torch.cuda.empty_cache()\n",
        "\n",
        "    test_scores.append(test_acc)\n",
        "\n"
      ],
      "execution_count": 19,
      "outputs": [
        {
          "output_type": "stream",
          "text": [
            "/usr/local/lib/python3.7/dist-packages/torch/utils/data/dataloader.py:477: UserWarning: This DataLoader will create 4 worker processes in total. Our suggested max number of worker in current system is 2, which is smaller than what this DataLoader is going to create. Please be aware that excessive worker creation might get DataLoader running slow or even freeze, lower the worker number to avoid potential slowness/freeze if necessary.\n",
            "  cpuset_checked))\n"
          ],
          "name": "stderr"
        }
      ]
    },
    {
      "cell_type": "code",
      "metadata": {
        "colab": {
          "base_uri": "https://localhost:8080/"
        },
        "id": "WqsYUUuC4neh",
        "outputId": "446a244e-ca3f-4252-90f0-df68d1c01c2a"
      },
      "source": [
        "print(test_scores)"
      ],
      "execution_count": 20,
      "outputs": [
        {
          "output_type": "stream",
          "text": [
            "[tensor(0.4000, device='cuda:0', dtype=torch.float64), tensor(0.4000, device='cuda:0', dtype=torch.float64), tensor(0.6000, device='cuda:0', dtype=torch.float64), tensor(0.2000, device='cuda:0', dtype=torch.float64)]\n"
          ],
          "name": "stdout"
        }
      ]
    },
    {
      "cell_type": "code",
      "metadata": {
        "id": "bJiQO1RF2XL6",
        "colab": {
          "base_uri": "https://localhost:8080/"
        },
        "outputId": "704b4644-9b9e-4a21-d74e-6ca41355516c"
      },
      "source": [
        "nubank_cross_val_scores = cross_val_pytorch(nubank)\n",
        "print([x.item() for x in nubank_cross_val_scores])"
      ],
      "execution_count": 25,
      "outputs": [
        {
          "output_type": "stream",
          "text": [
            "/usr/local/lib/python3.7/dist-packages/torch/utils/data/dataloader.py:477: UserWarning: This DataLoader will create 4 worker processes in total. Our suggested max number of worker in current system is 2, which is smaller than what this DataLoader is going to create. Please be aware that excessive worker creation might get DataLoader running slow or even freeze, lower the worker number to avoid potential slowness/freeze if necessary.\n",
            "  cpuset_checked))\n"
          ],
          "name": "stderr"
        },
        {
          "output_type": "stream",
          "text": [
            "[0.2, 0.4, 0.6000000000000001, 0.4]\n"
          ],
          "name": "stdout"
        }
      ]
    },
    {
      "cell_type": "code",
      "metadata": {
        "colab": {
          "base_uri": "https://localhost:8080/"
        },
        "id": "OERvX9lrRhUv",
        "outputId": "0c22369e-6b90-4e0a-e7cc-f0e7023dbb99"
      },
      "source": [
        "nuvem_cross_val_scores = cross_val_pytorch(nuvem)\n",
        "print(nuvem_cross_val_scores)"
      ],
      "execution_count": 22,
      "outputs": [
        {
          "output_type": "stream",
          "text": [
            "/usr/local/lib/python3.7/dist-packages/torch/utils/data/dataloader.py:477: UserWarning: This DataLoader will create 4 worker processes in total. Our suggested max number of worker in current system is 2, which is smaller than what this DataLoader is going to create. Please be aware that excessive worker creation might get DataLoader running slow or even freeze, lower the worker number to avoid potential slowness/freeze if necessary.\n",
            "  cpuset_checked))\n"
          ],
          "name": "stderr"
        },
        {
          "output_type": "stream",
          "text": [
            "[tensor(0.6000, device='cuda:0', dtype=torch.float64), tensor(0.2000, device='cuda:0', dtype=torch.float64), tensor(0.8000, device='cuda:0', dtype=torch.float64), tensor(0.6000, device='cuda:0', dtype=torch.float64)]\n"
          ],
          "name": "stdout"
        }
      ]
    },
    {
      "cell_type": "code",
      "metadata": {
        "colab": {
          "base_uri": "https://localhost:8080/"
        },
        "id": "iz_J-EwSSCaY",
        "outputId": "d29733bc-f51f-4aef-e071-c4af2007564a"
      },
      "source": [
        "print([x.item() for x in nuvem_cross_val_scores])"
      ],
      "execution_count": 24,
      "outputs": [
        {
          "output_type": "stream",
          "text": [
            "[0.6000000000000001, 0.2, 0.8, 0.6000000000000001]\n"
          ],
          "name": "stdout"
        }
      ]
    },
    {
      "cell_type": "code",
      "metadata": {
        "colab": {
          "base_uri": "https://localhost:8080/"
        },
        "id": "XiAHCYXZSlCQ",
        "outputId": "892f479a-cc25-40e6-dd47-82c775c0cae9"
      },
      "source": [
        "shopify_cross_val_scores = cross_val_pytorch(shopify)\n",
        "print([x.item() for x in shopify_cross_val_scores])"
      ],
      "execution_count": 26,
      "outputs": [
        {
          "output_type": "stream",
          "text": [
            "/usr/local/lib/python3.7/dist-packages/torch/utils/data/dataloader.py:477: UserWarning: This DataLoader will create 4 worker processes in total. Our suggested max number of worker in current system is 2, which is smaller than what this DataLoader is going to create. Please be aware that excessive worker creation might get DataLoader running slow or even freeze, lower the worker number to avoid potential slowness/freeze if necessary.\n",
            "  cpuset_checked))\n"
          ],
          "name": "stderr"
        },
        {
          "output_type": "stream",
          "text": [
            "[0.0, 0.2, 0.8, 0.4]\n"
          ],
          "name": "stdout"
        }
      ]
    },
    {
      "cell_type": "code",
      "metadata": {
        "colab": {
          "base_uri": "https://localhost:8080/"
        },
        "id": "2V-4RIUUSljp",
        "outputId": "2604d4fa-ef6c-4f96-fa36-26f9d17be5c1"
      },
      "source": [
        "vtex_cross_val_scores = cross_val_pytorch(vtex)\n",
        "print([x.item() for x in vtex_cross_val_scores])"
      ],
      "execution_count": 27,
      "outputs": [
        {
          "output_type": "stream",
          "text": [
            "/usr/local/lib/python3.7/dist-packages/torch/utils/data/dataloader.py:477: UserWarning: This DataLoader will create 4 worker processes in total. Our suggested max number of worker in current system is 2, which is smaller than what this DataLoader is going to create. Please be aware that excessive worker creation might get DataLoader running slow or even freeze, lower the worker number to avoid potential slowness/freeze if necessary.\n",
            "  cpuset_checked))\n"
          ],
          "name": "stderr"
        },
        {
          "output_type": "stream",
          "text": [
            "[0.2, 0.4, 0.8, 0.4]\n"
          ],
          "name": "stdout"
        }
      ]
    },
    {
      "cell_type": "markdown",
      "metadata": {
        "id": "9demrbNeYojC"
      },
      "source": [
        "### Sklearn"
      ]
    },
    {
      "cell_type": "code",
      "metadata": {
        "id": "VOP_jMOaBoDf"
      },
      "source": [
        "from sklearn.svm import SVC\n",
        "from sklearn.ensemble import RandomForestClassifier"
      ],
      "execution_count": null,
      "outputs": []
    },
    {
      "cell_type": "markdown",
      "metadata": {
        "id": "QL2HLNccDAeC"
      },
      "source": [
        "#### Nubank"
      ]
    },
    {
      "cell_type": "code",
      "metadata": {
        "id": "Nd-V2XuVYquC"
      },
      "source": [
        "X_nubank, y_nubank = PageDatasetSklearn(nubank, tokenizer, bert_model)\n",
        "\n"
      ],
      "execution_count": null,
      "outputs": []
    },
    {
      "cell_type": "code",
      "metadata": {
        "id": "Fty3_Mf6Cl8a"
      },
      "source": [
        "X_train_nubank, X_test_nubank, y_train_nubank, y_test_nubank = train_test_split(X_nubank, y_nubank, \n",
        "                                test_size=0.33, random_state=RANDOM_SEED)"
      ],
      "execution_count": null,
      "outputs": []
    },
    {
      "cell_type": "code",
      "metadata": {
        "colab": {
          "base_uri": "https://localhost:8080/"
        },
        "id": "l_UiUpX2FAMz",
        "outputId": "1867ace5-d68e-4f7a-f152-909ad3682132"
      },
      "source": [
        "svc = SVC()\n",
        "\n",
        "print(cross_val_score(svc, X_nubank, y_nubank, cv=4, scoring='f1'))"
      ],
      "execution_count": null,
      "outputs": [
        {
          "output_type": "stream",
          "text": [
            "[0.8        1.         0.85714286 1.        ]\n"
          ],
          "name": "stdout"
        }
      ]
    },
    {
      "cell_type": "code",
      "metadata": {
        "colab": {
          "base_uri": "https://localhost:8080/"
        },
        "id": "dSbsggjIGK3M",
        "outputId": "48957032-98de-470e-fbfa-fc8b50108a3b"
      },
      "source": [
        "rfc = RandomForestClassifier(max_depth=10)\n",
        "\n",
        "print(cross_val_score(rfc, X, y, cv=4, scoring='f1'))"
      ],
      "execution_count": null,
      "outputs": [
        {
          "output_type": "stream",
          "text": [
            "[0.8        0.8        0.8        0.85714286]\n"
          ],
          "name": "stdout"
        }
      ]
    },
    {
      "cell_type": "markdown",
      "metadata": {
        "id": "p4lrEp8BDFyG"
      },
      "source": [
        "#### nuvem"
      ]
    },
    {
      "cell_type": "code",
      "metadata": {
        "id": "WXMlSxyFDHvO"
      },
      "source": [
        "X_nuvem, y_nuvem = PageDatasetSklearn(nuvem, tokenizer, bert_model)"
      ],
      "execution_count": null,
      "outputs": []
    },
    {
      "cell_type": "code",
      "metadata": {
        "id": "aZ6iOZ5NDn7k"
      },
      "source": [
        "X_train_nuvem, X_test_nuvem, y_train_nuvem, y_test_nuvem = train_test_split(X_nuvem, y_nuvem, \n",
        "                                test_size=0.33, random_state=RANDOM_SEED)"
      ],
      "execution_count": null,
      "outputs": []
    },
    {
      "cell_type": "code",
      "metadata": {
        "colab": {
          "base_uri": "https://localhost:8080/"
        },
        "id": "WWvYct6OMNQI",
        "outputId": "d6f48769-e8df-4a0d-aa44-9fb7c2d38083"
      },
      "source": [
        "svc = SVC()\n",
        "\n",
        "print(cross_val_score(svc, X_nuvem, y_nuvem, cv=4, scoring='f1'))"
      ],
      "execution_count": null,
      "outputs": [
        {
          "output_type": "stream",
          "text": [
            "[0.66666667 0.8        0.8        0.85714286]\n"
          ],
          "name": "stdout"
        }
      ]
    },
    {
      "cell_type": "code",
      "metadata": {
        "colab": {
          "base_uri": "https://localhost:8080/"
        },
        "id": "5DZX-n-kMOzv",
        "outputId": "f861b68e-ff41-46ce-fe0f-2495d50d5b99"
      },
      "source": [
        "rfc = RandomForestClassifier(max_depth=10)\n",
        "\n",
        "print(cross_val_score(rfc, X_nuvem, y_nuvem, cv=4, scoring='f1'))"
      ],
      "execution_count": null,
      "outputs": [
        {
          "output_type": "stream",
          "text": [
            "[1.  1.  0.8 1. ]\n"
          ],
          "name": "stdout"
        }
      ]
    },
    {
      "cell_type": "markdown",
      "metadata": {
        "id": "xWImYpYBDIn-"
      },
      "source": [
        "#### shopify"
      ]
    },
    {
      "cell_type": "code",
      "metadata": {
        "id": "PrvfMV8rDJ6u"
      },
      "source": [
        "X_shopify, y_shopify = PageDatasetSklearn(shopify, tokenizer, bert_model)"
      ],
      "execution_count": null,
      "outputs": []
    },
    {
      "cell_type": "code",
      "metadata": {
        "id": "---o8BUQDyfN"
      },
      "source": [
        "X_train_shopify, X_test_shopify, y_train_shopify, y_test_shopify = train_test_split(X_shopify, y_shopify, \n",
        "                                test_size=0.33, random_state=RANDOM_SEED)"
      ],
      "execution_count": null,
      "outputs": []
    },
    {
      "cell_type": "code",
      "metadata": {
        "colab": {
          "base_uri": "https://localhost:8080/"
        },
        "id": "H7Y0l9hPM-rD",
        "outputId": "ed36ccb1-c13f-4e6b-f2c4-25f99af9658e"
      },
      "source": [
        "svc = SVC()\n",
        "\n",
        "print(cross_val_score(svc, X_shopify, y_shopify, cv=4, scoring='f1'))"
      ],
      "execution_count": null,
      "outputs": [
        {
          "output_type": "stream",
          "text": [
            "[0.8        0.8        0.85714286 1.        ]\n"
          ],
          "name": "stdout"
        }
      ]
    },
    {
      "cell_type": "code",
      "metadata": {
        "colab": {
          "base_uri": "https://localhost:8080/"
        },
        "id": "gPyt68b0M_Cs",
        "outputId": "8ea425e6-08b7-4fc8-cd93-5349e88571d4"
      },
      "source": [
        "rfc = RandomForestClassifier(max_depth=10)\n",
        "\n",
        "print(cross_val_score(rfc, X_shopify, y_shopify, cv=4, scoring='f1'))"
      ],
      "execution_count": null,
      "outputs": [
        {
          "output_type": "stream",
          "text": [
            "[1.         0.8        0.85714286 1.        ]\n"
          ],
          "name": "stdout"
        }
      ]
    },
    {
      "cell_type": "markdown",
      "metadata": {
        "id": "j1QhrSlO-ClC"
      },
      "source": [
        "#### VTEX"
      ]
    },
    {
      "cell_type": "code",
      "metadata": {
        "id": "uM2sAn0F-DgL"
      },
      "source": [
        "X_vtex, y_vtex = PageDatasetSklearn(vtex, tokenizer, bert_model)"
      ],
      "execution_count": null,
      "outputs": []
    },
    {
      "cell_type": "code",
      "metadata": {
        "id": "lGBtVBc4D5lm"
      },
      "source": [
        "X_train_vtex, X_test_vtex, y_train_vtex, y_test_vtex = train_test_split(X_vtex, y_vtex, \n",
        "                                test_size=0.33, random_state=RANDOM_SEED)"
      ],
      "execution_count": null,
      "outputs": []
    },
    {
      "cell_type": "code",
      "metadata": {
        "colab": {
          "base_uri": "https://localhost:8080/"
        },
        "id": "QHsYIgRy-Lg5",
        "outputId": "aad94ced-6481-424a-b0f9-648af0457d91"
      },
      "source": [
        "svc = SVC()\n",
        "\n",
        "print(cross_val_score(svc, X_vtex, y_vtex, cv=4, scoring='f1'))"
      ],
      "execution_count": null,
      "outputs": [
        {
          "output_type": "stream",
          "text": [
            "[0.8        0.66666667 0.         0.85714286]\n"
          ],
          "name": "stdout"
        }
      ]
    },
    {
      "cell_type": "code",
      "metadata": {
        "colab": {
          "base_uri": "https://localhost:8080/"
        },
        "id": "fRFw8MCn-MTO",
        "outputId": "ba9b49c3-736a-40e7-c812-3ffe0172cab0"
      },
      "source": [
        "rfc = RandomForestClassifier(max_depth=10)\n",
        "\n",
        "print(cross_val_score(rfc, X_vtex, y_vtex, cv=4, scoring='f1'))"
      ],
      "execution_count": null,
      "outputs": [
        {
          "output_type": "stream",
          "text": [
            "[0.66666667 0.8        1.         0.85714286]\n"
          ],
          "name": "stdout"
        }
      ]
    },
    {
      "cell_type": "markdown",
      "metadata": {
        "id": "JxN4dwRD_HK3"
      },
      "source": [
        "### Harvest Ratio"
      ]
    },
    {
      "cell_type": "code",
      "metadata": {
        "colab": {
          "base_uri": "https://localhost:8080/"
        },
        "id": "t67ONxjofY2m",
        "outputId": "92d00e44-d849-4f41-b5e4-acd4bf3b0c7c"
      },
      "source": [
        "!pip install selenium\n",
        "!apt-get update \n",
        "!apt install chromium-chromedriver"
      ],
      "execution_count": null,
      "outputs": [
        {
          "output_type": "stream",
          "text": [
            "Requirement already satisfied: selenium in /usr/local/lib/python3.7/dist-packages (3.141.0)\n",
            "Requirement already satisfied: urllib3 in /usr/local/lib/python3.7/dist-packages (from selenium) (1.24.3)\n",
            "Hit:1 https://cloud.r-project.org/bin/linux/ubuntu bionic-cran40/ InRelease\n",
            "Ign:2 https://developer.download.nvidia.com/compute/cuda/repos/ubuntu1804/x86_64  InRelease\n",
            "Hit:3 http://security.ubuntu.com/ubuntu bionic-security InRelease\n",
            "Hit:4 http://ppa.launchpad.net/c2d4u.team/c2d4u4.0+/ubuntu bionic InRelease\n",
            "Hit:5 http://archive.ubuntu.com/ubuntu bionic InRelease\n",
            "Ign:6 https://developer.download.nvidia.com/compute/machine-learning/repos/ubuntu1804/x86_64  InRelease\n",
            "Hit:7 https://developer.download.nvidia.com/compute/cuda/repos/ubuntu1804/x86_64  Release\n",
            "Hit:8 https://developer.download.nvidia.com/compute/machine-learning/repos/ubuntu1804/x86_64  Release\n",
            "Hit:9 http://archive.ubuntu.com/ubuntu bionic-updates InRelease\n",
            "Hit:10 http://ppa.launchpad.net/cran/libgit2/ubuntu bionic InRelease\n",
            "Hit:11 http://archive.ubuntu.com/ubuntu bionic-backports InRelease\n",
            "Hit:12 http://ppa.launchpad.net/deadsnakes/ppa/ubuntu bionic InRelease\n",
            "Hit:13 http://ppa.launchpad.net/graphics-drivers/ppa/ubuntu bionic InRelease\n",
            "Reading package lists... Done\n",
            "Reading package lists... Done\n",
            "Building dependency tree       \n",
            "Reading state information... Done\n",
            "chromium-chromedriver is already the newest version (89.0.4389.90-0ubuntu0.18.04.2).\n",
            "0 upgraded, 0 newly installed, 0 to remove and 57 not upgraded.\n"
          ],
          "name": "stdout"
        }
      ]
    },
    {
      "cell_type": "code",
      "metadata": {
        "id": "bghfSf4pFNQM"
      },
      "source": [
        "from utils import get_parsed_phrase, get_parsed_vtex\n",
        "from selenium import webdriver\n",
        "import time"
      ],
      "execution_count": null,
      "outputs": []
    },
    {
      "cell_type": "code",
      "metadata": {
        "id": "9Tq5uGgoAB7l"
      },
      "source": [
        "def classify_site(soup, bert_model, model, tokenizer):\n",
        "\n",
        "    parsed_phrase = get_parsed_phrase(soup)\n",
        "    if len(parsed_phrase) > 250:\n",
        "        parsed_phrase = parsed_phrase[:250]\n",
        "    encoding = encode(parsed_phrase, tokenizer, len(parsed_phrase), return_tensors='pt')\n",
        "    # print(encoding['input_ids'][0])\n",
        "    with torch.no_grad():\n",
        "        last_hidden_states = bert_model(encoding['input_ids'], attention_mask=encoding['attention_mask'])\n",
        "\n",
        "    features = last_hidden_states[0][:,0,:].numpy()\n",
        "    return model.predict(features)"
      ],
      "execution_count": null,
      "outputs": []
    },
    {
      "cell_type": "code",
      "metadata": {
        "id": "d4EyJXi6_Jl3"
      },
      "source": [
        "def classify_vtex(title, texts, bert_model, model, tokenizer):\n",
        "    try:\n",
        "        print(title)\n",
        "        parsed_phrase = get_parsed_vtex(title, texts)\n",
        "        if len(parsed_phrase) > 250:\n",
        "            parsed_phrase = parsed_phrase[:250]\n",
        "        encoding = encode(parsed_phrase, tokenizer, len(parsed_phrase), return_tensors='pt')\n",
        "        with torch.no_grad():\n",
        "            last_hidden_states = bert_model(encoding['input_ids'], attention_mask=encoding['attention_mask'])\n",
        "\n",
        "        features = last_hidden_states[0][:,0,:].numpy()\n",
        "        return model.predict(features)\n",
        "    except ValueError:\n",
        "        print(title)\n",
        "        return [0]"
      ],
      "execution_count": null,
      "outputs": []
    },
    {
      "cell_type": "code",
      "metadata": {
        "id": "TZwCyVy3NCRm"
      },
      "source": [
        "def get_links_list(filename):\n",
        "    raw = open(f'{filename}.txt', 'r')\n",
        "\n",
        "    links = []\n",
        "    actual = raw.readline()\n",
        "\n",
        "    while actual != \"\":\n",
        "        actual = actual.rstrip('\\n')\n",
        "        if actual != '':\n",
        "            links.append(actual)\n",
        "        actual = raw.readline()\n",
        "\n",
        "    return links"
      ],
      "execution_count": null,
      "outputs": []
    },
    {
      "cell_type": "code",
      "metadata": {
        "id": "z_bloHDSSUOC"
      },
      "source": [
        "def get_predictions(model, links):\n",
        "    predicts = []\n",
        "\n",
        "    for link in links:\n",
        "        page = requests.get(link)\n",
        "        soup = BeautifulSoup(page.content, 'html.parser')\n",
        "        predicts.append(classify_site(soup, bert_model, model, tokenizer))\n",
        "\n",
        "    return predicts"
      ],
      "execution_count": null,
      "outputs": []
    },
    {
      "cell_type": "code",
      "metadata": {
        "id": "aTR7QTjYVFrk"
      },
      "source": [
        "def get_vtex_predictions(model, links):\n",
        "    predicts = []\n",
        "\n",
        "    for link in links:\n",
        "        options = webdriver.ChromeOptions()\n",
        "        options.add_argument(\"--ignore-certificate-errors\")\n",
        "        options.add_argument(\"--incognito\")\n",
        "        options.headless = True\n",
        "        options.add_argument(\"--no-sandbox\")\n",
        "        driver = webdriver.Chrome(options=options)\n",
        "        driver.get(link)\n",
        "        time.sleep(5)\n",
        "        \n",
        "        soup = BeautifulSoup(driver.page_source, 'html.parser')\n",
        "        blacklist = [\n",
        "            'style',\n",
        "            'script'\n",
        "        ]\n",
        "        text_elements = [t for t in soup.find_all(\n",
        "            text=True) if t.parent.name not in blacklist]\n",
        "        text_elements = list(filter(lambda x: not (\n",
        "            'render facet' in x or '\\n' in x or '\\xa0' in x), text_elements))\n",
        "        \n",
        "        driver.close()\n",
        "\n",
        "        predicts.append(classify_vtex(soup.find('title').text, text_elements, bert_model, model, tokenizer))\n",
        "\n",
        "    return predicts"
      ],
      "execution_count": null,
      "outputs": []
    },
    {
      "cell_type": "markdown",
      "metadata": {
        "id": "cLjVNuosB35q"
      },
      "source": [
        "#### Nubank"
      ]
    },
    {
      "cell_type": "code",
      "metadata": {
        "id": "0GTMBb9xMikH"
      },
      "source": [
        "nubank_links = get_links_list('nubank')"
      ],
      "execution_count": null,
      "outputs": []
    },
    {
      "cell_type": "code",
      "metadata": {
        "colab": {
          "base_uri": "https://localhost:8080/"
        },
        "id": "ETpJVuhvB0rH",
        "outputId": "476c4cc5-4c87-4e2d-bebe-433579344c0c"
      },
      "source": [
        "svc_nubank = SVC()\n",
        "\n",
        "svc_nubank.fit(X_train_nubank, y_train_nubank)\n",
        "\n",
        "nubank_heuristics = get_predictions(svc_nubank, nubank_links[:100])\n",
        "\n",
        "print(nubank_heuristics.count([1]))"
      ],
      "execution_count": null,
      "outputs": [
        {
          "output_type": "stream",
          "text": [
            "76\n"
          ],
          "name": "stdout"
        }
      ]
    },
    {
      "cell_type": "code",
      "metadata": {
        "colab": {
          "base_uri": "https://localhost:8080/"
        },
        "id": "J-bkhNTFPMgl",
        "outputId": "a5b2dcea-fa13-49ed-abd9-2abc3c2c2d65"
      },
      "source": [
        "nubank_bfs = get_predictions(svc_nubank, nubank_links[100:])\n",
        "print(nubank_bfs.count([1]))"
      ],
      "execution_count": null,
      "outputs": [
        {
          "output_type": "stream",
          "text": [
            "70\n"
          ],
          "name": "stdout"
        }
      ]
    },
    {
      "cell_type": "markdown",
      "metadata": {
        "id": "8B0GBQwUMxvP"
      },
      "source": [
        "#### Nuvem"
      ]
    },
    {
      "cell_type": "code",
      "metadata": {
        "id": "ApcTEX4RFBNg"
      },
      "source": [
        "nuvem_links = get_links_list('nuvemshop')"
      ],
      "execution_count": null,
      "outputs": []
    },
    {
      "cell_type": "code",
      "metadata": {
        "colab": {
          "base_uri": "https://localhost:8080/"
        },
        "id": "6-mBt4TzONvv",
        "outputId": "87aeb3ec-4857-480b-d20c-2cd300316e46"
      },
      "source": [
        "rfc_nuvem = RandomForestClassifier(max_depth=10)\n",
        "\n",
        "rfc_nuvem.fit(X_train_nuvem, y_train_nuvem)\n",
        "\n",
        "nuvem_heuristics = get_predictions(rfc_nuvem, nuvem_links[:100])\n",
        "\n",
        "print(nuvem_heuristics.count([1]))"
      ],
      "execution_count": null,
      "outputs": [
        {
          "output_type": "stream",
          "text": [
            "79\n"
          ],
          "name": "stdout"
        }
      ]
    },
    {
      "cell_type": "code",
      "metadata": {
        "colab": {
          "base_uri": "https://localhost:8080/"
        },
        "id": "9ycy4a4IT14K",
        "outputId": "2b6f14e8-2fef-45e6-f82e-9ca2c0860618"
      },
      "source": [
        "nuvem_bfs = get_predictions(rfc_nuvem, nuvem_links[100:])\n",
        "print(nuvem_bfs.count([1]))"
      ],
      "execution_count": null,
      "outputs": [
        {
          "output_type": "stream",
          "text": [
            "49\n"
          ],
          "name": "stdout"
        }
      ]
    },
    {
      "cell_type": "markdown",
      "metadata": {
        "id": "jY_zTSj_M1fj"
      },
      "source": [
        "#### Shopify"
      ]
    },
    {
      "cell_type": "code",
      "metadata": {
        "id": "8J7g6mmYM3Iy"
      },
      "source": [
        "shopify_links = get_links_list('shopify1')"
      ],
      "execution_count": null,
      "outputs": []
    },
    {
      "cell_type": "code",
      "metadata": {
        "colab": {
          "base_uri": "https://localhost:8080/"
        },
        "id": "XNxwSlZeM3vk",
        "outputId": "b1857dd4-cf21-4b46-fde2-0a54247bf1e3"
      },
      "source": [
        "rfc_shopify = RandomForestClassifier(max_depth=10)\n",
        "\n",
        "rfc_shopify.fit(X_train_shopify, y_train_shopify)\n",
        "\n",
        "shopify_heuristics = get_predictions(rfc_shopify, shopify_links[:100])\n",
        "\n",
        "print(shopify_heuristics.count([1]))"
      ],
      "execution_count": null,
      "outputs": [
        {
          "output_type": "stream",
          "text": [
            "27\n"
          ],
          "name": "stdout"
        }
      ]
    },
    {
      "cell_type": "code",
      "metadata": {
        "colab": {
          "base_uri": "https://localhost:8080/"
        },
        "id": "9PWZTrpXUmKc",
        "outputId": "d7c2747c-1533-4c64-e412-479649ceef21"
      },
      "source": [
        "shopify_bfs = get_predictions(rfc_shopify, shopify_links[100:])\n",
        "print(shopify_bfs.count([1]))"
      ],
      "execution_count": null,
      "outputs": [
        {
          "output_type": "stream",
          "text": [
            "27\n"
          ],
          "name": "stdout"
        }
      ]
    },
    {
      "cell_type": "markdown",
      "metadata": {
        "id": "vgWg8XskM5ad"
      },
      "source": [
        "#### VTEX"
      ]
    },
    {
      "cell_type": "code",
      "metadata": {
        "id": "LkQNWaQTM6oQ"
      },
      "source": [
        "vtex_links = get_links_list('vtex')"
      ],
      "execution_count": null,
      "outputs": []
    },
    {
      "cell_type": "code",
      "metadata": {
        "colab": {
          "base_uri": "https://localhost:8080/"
        },
        "id": "wK6duYjDUrKi",
        "outputId": "f29c08d2-bd2c-454f-c5a6-f3a857b45e95"
      },
      "source": [
        "rfc_vtex = RandomForestClassifier(max_depth=10)\n",
        "\n",
        "rfc_vtex.fit(X_train_vtex, y_train_vtex)\n",
        "\n",
        "vtex_heuristics = get_vtex_predictions(rfc_vtex, vtex_links[:100])\n",
        "\n",
        "print(vtex_heuristics.count([1]))"
      ],
      "execution_count": null,
      "outputs": [
        {
          "output_type": "stream",
          "text": [
            "89\n"
          ],
          "name": "stdout"
        }
      ]
    },
    {
      "cell_type": "code",
      "metadata": {
        "colab": {
          "base_uri": "https://localhost:8080/"
        },
        "id": "MiDk3OvfVdzr",
        "outputId": "fe6e02aa-9cc0-48b3-bcc4-ea247d15d47f"
      },
      "source": [
        "vtex_bfs = get_vtex_predictions(rfc_vtex, vtex_links[100:])\n",
        "print(vtex_bfs.count([1]))"
      ],
      "execution_count": null,
      "outputs": [
        {
          "output_type": "stream",
          "text": [
            "VTEX Community\n",
            "VTEX Developer Portal\n",
            "VTEX Community\n",
            "Selo ebit mobile não aparece\n",
            "VTEX Help Center \n",
            "Consigo plugar dois adquirentes de pagamento ao mesmo tempo (no caso Pay U e Mundipagg) e criar uma regra para transacionar entre essas adquirentes por range de produto?\n",
            "Quero fazer cadastro para ser um ponto de retirada e não consigo\n",
            "Erro no e-mail\n",
            "Consigo colocar prazo de entrega diferentes em cada produto?\n",
            "VTEX Community\n",
            "VTEX SSO - HELP\n",
            "Criar coleção automática com todos os produtos da loja\n",
            "Migração Vtex CMS para Vtex.io\n",
            "Transação sendo cancelada sozinha\n",
            "REDIRECT.CENTER está fora do ar ?\n",
            "Alterar texto vtex.cmc:stockKeepingUnitSelection\n",
            "Pessoal, sabem se tem algum tempo para o produto fica no Mini cart até sair?\n",
            "e se quando o produto vai para o carrinho esse produto sai do estoque?\n",
            "Não consigo fazer o de para de categorias com a Amazon. Meu produto não tem variação de cor e nem tamanho pois são cosmético.\n",
            "Como compartir un producto en facebook?\n",
            "Como atualizar as informações de um orderform via API?\n",
            "Criei um kit dentro um produto já cadastro, não consigo desfazer. Preciso incluir esse produto como componente em um outro kit porém informa que **o produto x também é um Kit e não pode ser componente do produto x**\n",
            "Marketplace\n",
            "Serviços - VTEX Store\n",
            "Logistic & Inventory\n",
            "Checkout\n",
            "Serviços - VTEX Store\n",
            "Store Layout\n",
            "Serviços - VTEX Store\n",
            "File Not Found\n",
            "File Not Found\n",
            "File Not Found\n",
            "Login\n",
            "VTEX Community\n",
            "VTEX Developer Portal\n",
            "Login\n",
            "VTEX Developer Portal\n",
            "VTEX SSO - HELP\n",
            "VTEX Status\n",
            "VTEX Healthcheck\n",
            "Login\n",
            "VTEX Community\n",
            "VTEX Community\n",
            "VTEX SSO - HELP\n",
            "VTEX App Store\n",
            "Partner with VTEX and become a collaborative commerce expert - VTEX\n",
            "VTEX Help Center \n",
            "Google Forms - create and analyze surveys, for free.\n",
            "Google Forms - create and analyze surveys, for free.\n",
            "ReadMe Login\n",
            "VTEX Learning Center\n",
            "File Not Found\n",
            "Introduction\n",
            "ReadMe: Interactive Developer Hubs\n",
            "What is Store Framework\n",
            "Introduction\n",
            "What is VTEX IO\n",
            "Introduction\n",
            "What is Store Framework\n",
            "What is VTEX IO\n",
            "File Not Found\n",
            "Login\n",
            "VTEX Community\n",
            "VTEX Community\n",
            "VTEX Community\n",
            "Termos de Serviço do Google – Privacidade & Termos – Google\n",
            "VTEX Community\n",
            "VTEX Community\n",
            "Política de Privacidade – Privacidade & Termos – Google\n",
            "Termos de Serviço do Google – Privacidade & Termos – Google\n",
            "Política de Privacidade – Privacidade & Termos – Google\n",
            "VTEX Community\n",
            "VTEX Community\n",
            "VTEX Community\n",
            "Habilitar login por autenticação de 2 fatores  | VTEX Help Center\n",
            "VTEX Community\n",
            "VTEX Community\n",
            "VTEX Community\n",
            "VTEX Community\n",
            "‎Google Authenticator na App Store\n",
            "Thiago T\n",
            "Release Notes\n",
            "VTEX Community\n",
            "Store Layout\n",
            "Google Authenticator – Apps no Google Play\n",
            "VTEX Community\n",
            "Checkout\n",
            "VTEX Community\n",
            "Felipe Costa\n",
            "Wilson Junior\n",
            "Checkout\n",
            "Wilson Junior\n",
            "Logistic & Inventory\n",
            "Nathan Prestes\n",
            "Nathan Prestes\n",
            "NEIDY Amador\n",
            "VTEX Community\n",
            "Payments\n",
            "VTEX Community\n",
            "Marcos Scanavachi\n",
            "Payments\n",
            "Marcos Scanavachi\n",
            "31\n"
          ],
          "name": "stdout"
        }
      ]
    },
    {
      "cell_type": "code",
      "metadata": {
        "id": "lV3lzMz5kPTr"
      },
      "source": [
        ""
      ],
      "execution_count": null,
      "outputs": []
    }
  ]
}